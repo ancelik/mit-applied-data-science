{
  "cells": [
    {
      "cell_type": "markdown",
      "metadata": {
        "id": "view-in-github",
        "colab_type": "text"
      },
      "source": [
        "<a href=\"https://colab.research.google.com/github/ancelik/mit-applied-data-science/blob/main/FDS_Project_LearnerNotebook_FullCode.ipynb\" target=\"_parent\"><img src=\"https://colab.research.google.com/assets/colab-badge.svg\" alt=\"Open In Colab\"/></a>"
      ]
    },
    {
      "cell_type": "markdown",
      "metadata": {
        "id": "Gc8x8QimJY_H"
      },
      "source": [
        "# Project Foundations for Data Science: FoodHub Data Analysis\n",
        "\n",
        "**Marks: 60**"
      ]
    },
    {
      "cell_type": "markdown",
      "metadata": {
        "id": "NqikjkWwJY_L"
      },
      "source": [
        "### Context\n",
        "\n",
        "The number of restaurants in New York is increasing day by day. Lots of students and busy professionals rely on those restaurants due to their hectic lifestyles. Online food delivery service is a great option for them. It provides them with good food from their favorite restaurants. A food aggregator company FoodHub offers access to multiple restaurants through a single smartphone app.\n",
        "\n",
        "The app allows the restaurants to receive a direct online order from a customer. The app assigns a delivery person from the company to pick up the order after it is confirmed by the restaurant. The delivery person then uses the map to reach the restaurant and waits for the food package. Once the food package is handed over to the delivery person, he/she confirms the pick-up in the app and travels to the customer's location to deliver the food. The delivery person confirms the drop-off in the app after delivering the food package to the customer. The customer can rate the order in the app. The food aggregator earns money by collecting a fixed margin of the delivery order from the restaurants.\n",
        "\n",
        "### Objective\n",
        "\n",
        "The food aggregator company has stored the data of the different orders made by the registered customers in their online portal. They want to analyze the data to get a fair idea about the demand of different restaurants which will help them in enhancing their customer experience. Suppose you are hired as a Data Scientist in this company and the Data Science team has shared some of the key questions that need to be answered. Perform the data analysis to find answers to these questions that will help the company to improve the business.\n",
        "\n",
        "### Data Description\n",
        "\n",
        "The data contains the different data related to a food order. The detailed data dictionary is given below.\n",
        "\n",
        "### Data Dictionary\n",
        "\n",
        "* order_id: Unique ID of the order\n",
        "* customer_id: ID of the customer who ordered the food\n",
        "* restaurant_name: Name of the restaurant\n",
        "* cuisine_type: Cuisine ordered by the customer\n",
        "* cost: Cost of the order\n",
        "* day_of_the_week: Indicates whether the order is placed on a weekday or weekend (The weekday is from Monday to Friday and the weekend is Saturday and Sunday)\n",
        "* rating: Rating given by the customer out of 5\n",
        "* food_preparation_time: Time (in minutes) taken by the restaurant to prepare the food. This is calculated by taking the difference between the timestamps of the restaurant's order confirmation and the delivery person's pick-up confirmation.\n",
        "* delivery_time: Time (in minutes) taken by the delivery person to deliver the food package. This is calculated by taking the difference between the timestamps of the delivery person's pick-up confirmation and drop-off information"
      ]
    },
    {
      "cell_type": "markdown",
      "metadata": {
        "id": "cEtNUxNAJY_M"
      },
      "source": [
        "### Let us start by importing the required libraries"
      ]
    },
    {
      "cell_type": "code",
      "execution_count": null,
      "metadata": {
        "id": "u6PlpJAPJY_N",
        "colab": {
          "base_uri": "https://localhost:8080/"
        },
        "outputId": "b240d62b-671f-4b87-c1ca-0d894d7fa02d"
      },
      "outputs": [
        {
          "output_type": "stream",
          "name": "stdout",
          "text": [
            "Drive already mounted at /content/drive; to attempt to forcibly remount, call drive.mount(\"/content/drive\", force_remount=True).\n"
          ]
        }
      ],
      "source": [
        "# This imports libraries for data manipulation\n",
        "import numpy as np\n",
        "import pandas as pd\n",
        "\n",
        "# This imports libraries for data visualization\n",
        "import matplotlib.pyplot as plt\n",
        "import seaborn as sns\n",
        "\n",
        "# This connects the notebook to google drive\n",
        "from google.colab import drive\n",
        "drive.mount('/content/drive')"
      ]
    },
    {
      "cell_type": "markdown",
      "metadata": {
        "id": "AdracY0HJY_O"
      },
      "source": [
        "### Understanding the structure of the data"
      ]
    },
    {
      "cell_type": "code",
      "execution_count": null,
      "metadata": {
        "id": "GF01IZDbJY_O",
        "scrolled": true,
        "colab": {
          "base_uri": "https://localhost:8080/",
          "height": 278
        },
        "outputId": "a6f7a32e-d9c3-423c-eef6-e2ab83b51623"
      },
      "outputs": [
        {
          "output_type": "execute_result",
          "data": {
            "text/plain": [
              "   order_id  customer_id            restaurant_name cuisine_type  \\\n",
              "0   1477147       337525                    Hangawi       Korean   \n",
              "1   1477685       358141  Blue Ribbon Sushi Izakaya     Japanese   \n",
              "2   1477070        66393                Cafe Habana      Mexican   \n",
              "3   1477334       106968  Blue Ribbon Fried Chicken     American   \n",
              "4   1478249        76942           Dirty Bird to Go     American   \n",
              "\n",
              "   cost_of_the_order day_of_the_week     rating  food_preparation_time  \\\n",
              "0              30.75         Weekend  Not given                     25   \n",
              "1              12.08         Weekend  Not given                     25   \n",
              "2              12.23         Weekday          5                     23   \n",
              "3              29.20         Weekend          3                     25   \n",
              "4              11.59         Weekday          4                     25   \n",
              "\n",
              "   delivery_time  \n",
              "0             20  \n",
              "1             23  \n",
              "2             28  \n",
              "3             15  \n",
              "4             24  "
            ],
            "text/html": [
              "\n",
              "  <div id=\"df-539f1e9a-7edf-4ace-bf4a-e48452d20239\" class=\"colab-df-container\">\n",
              "    <div>\n",
              "<style scoped>\n",
              "    .dataframe tbody tr th:only-of-type {\n",
              "        vertical-align: middle;\n",
              "    }\n",
              "\n",
              "    .dataframe tbody tr th {\n",
              "        vertical-align: top;\n",
              "    }\n",
              "\n",
              "    .dataframe thead th {\n",
              "        text-align: right;\n",
              "    }\n",
              "</style>\n",
              "<table border=\"1\" class=\"dataframe\">\n",
              "  <thead>\n",
              "    <tr style=\"text-align: right;\">\n",
              "      <th></th>\n",
              "      <th>order_id</th>\n",
              "      <th>customer_id</th>\n",
              "      <th>restaurant_name</th>\n",
              "      <th>cuisine_type</th>\n",
              "      <th>cost_of_the_order</th>\n",
              "      <th>day_of_the_week</th>\n",
              "      <th>rating</th>\n",
              "      <th>food_preparation_time</th>\n",
              "      <th>delivery_time</th>\n",
              "    </tr>\n",
              "  </thead>\n",
              "  <tbody>\n",
              "    <tr>\n",
              "      <th>0</th>\n",
              "      <td>1477147</td>\n",
              "      <td>337525</td>\n",
              "      <td>Hangawi</td>\n",
              "      <td>Korean</td>\n",
              "      <td>30.75</td>\n",
              "      <td>Weekend</td>\n",
              "      <td>Not given</td>\n",
              "      <td>25</td>\n",
              "      <td>20</td>\n",
              "    </tr>\n",
              "    <tr>\n",
              "      <th>1</th>\n",
              "      <td>1477685</td>\n",
              "      <td>358141</td>\n",
              "      <td>Blue Ribbon Sushi Izakaya</td>\n",
              "      <td>Japanese</td>\n",
              "      <td>12.08</td>\n",
              "      <td>Weekend</td>\n",
              "      <td>Not given</td>\n",
              "      <td>25</td>\n",
              "      <td>23</td>\n",
              "    </tr>\n",
              "    <tr>\n",
              "      <th>2</th>\n",
              "      <td>1477070</td>\n",
              "      <td>66393</td>\n",
              "      <td>Cafe Habana</td>\n",
              "      <td>Mexican</td>\n",
              "      <td>12.23</td>\n",
              "      <td>Weekday</td>\n",
              "      <td>5</td>\n",
              "      <td>23</td>\n",
              "      <td>28</td>\n",
              "    </tr>\n",
              "    <tr>\n",
              "      <th>3</th>\n",
              "      <td>1477334</td>\n",
              "      <td>106968</td>\n",
              "      <td>Blue Ribbon Fried Chicken</td>\n",
              "      <td>American</td>\n",
              "      <td>29.20</td>\n",
              "      <td>Weekend</td>\n",
              "      <td>3</td>\n",
              "      <td>25</td>\n",
              "      <td>15</td>\n",
              "    </tr>\n",
              "    <tr>\n",
              "      <th>4</th>\n",
              "      <td>1478249</td>\n",
              "      <td>76942</td>\n",
              "      <td>Dirty Bird to Go</td>\n",
              "      <td>American</td>\n",
              "      <td>11.59</td>\n",
              "      <td>Weekday</td>\n",
              "      <td>4</td>\n",
              "      <td>25</td>\n",
              "      <td>24</td>\n",
              "    </tr>\n",
              "  </tbody>\n",
              "</table>\n",
              "</div>\n",
              "    <div class=\"colab-df-buttons\">\n",
              "\n",
              "  <div class=\"colab-df-container\">\n",
              "    <button class=\"colab-df-convert\" onclick=\"convertToInteractive('df-539f1e9a-7edf-4ace-bf4a-e48452d20239')\"\n",
              "            title=\"Convert this dataframe to an interactive table.\"\n",
              "            style=\"display:none;\">\n",
              "\n",
              "  <svg xmlns=\"http://www.w3.org/2000/svg\" height=\"24px\" viewBox=\"0 -960 960 960\">\n",
              "    <path d=\"M120-120v-720h720v720H120Zm60-500h600v-160H180v160Zm220 220h160v-160H400v160Zm0 220h160v-160H400v160ZM180-400h160v-160H180v160Zm440 0h160v-160H620v160ZM180-180h160v-160H180v160Zm440 0h160v-160H620v160Z\"/>\n",
              "  </svg>\n",
              "    </button>\n",
              "\n",
              "  <style>\n",
              "    .colab-df-container {\n",
              "      display:flex;\n",
              "      gap: 12px;\n",
              "    }\n",
              "\n",
              "    .colab-df-convert {\n",
              "      background-color: #E8F0FE;\n",
              "      border: none;\n",
              "      border-radius: 50%;\n",
              "      cursor: pointer;\n",
              "      display: none;\n",
              "      fill: #1967D2;\n",
              "      height: 32px;\n",
              "      padding: 0 0 0 0;\n",
              "      width: 32px;\n",
              "    }\n",
              "\n",
              "    .colab-df-convert:hover {\n",
              "      background-color: #E2EBFA;\n",
              "      box-shadow: 0px 1px 2px rgba(60, 64, 67, 0.3), 0px 1px 3px 1px rgba(60, 64, 67, 0.15);\n",
              "      fill: #174EA6;\n",
              "    }\n",
              "\n",
              "    .colab-df-buttons div {\n",
              "      margin-bottom: 4px;\n",
              "    }\n",
              "\n",
              "    [theme=dark] .colab-df-convert {\n",
              "      background-color: #3B4455;\n",
              "      fill: #D2E3FC;\n",
              "    }\n",
              "\n",
              "    [theme=dark] .colab-df-convert:hover {\n",
              "      background-color: #434B5C;\n",
              "      box-shadow: 0px 1px 3px 1px rgba(0, 0, 0, 0.15);\n",
              "      filter: drop-shadow(0px 1px 2px rgba(0, 0, 0, 0.3));\n",
              "      fill: #FFFFFF;\n",
              "    }\n",
              "  </style>\n",
              "\n",
              "    <script>\n",
              "      const buttonEl =\n",
              "        document.querySelector('#df-539f1e9a-7edf-4ace-bf4a-e48452d20239 button.colab-df-convert');\n",
              "      buttonEl.style.display =\n",
              "        google.colab.kernel.accessAllowed ? 'block' : 'none';\n",
              "\n",
              "      async function convertToInteractive(key) {\n",
              "        const element = document.querySelector('#df-539f1e9a-7edf-4ace-bf4a-e48452d20239');\n",
              "        const dataTable =\n",
              "          await google.colab.kernel.invokeFunction('convertToInteractive',\n",
              "                                                    [key], {});\n",
              "        if (!dataTable) return;\n",
              "\n",
              "        const docLinkHtml = 'Like what you see? Visit the ' +\n",
              "          '<a target=\"_blank\" href=https://colab.research.google.com/notebooks/data_table.ipynb>data table notebook</a>'\n",
              "          + ' to learn more about interactive tables.';\n",
              "        element.innerHTML = '';\n",
              "        dataTable['output_type'] = 'display_data';\n",
              "        await google.colab.output.renderOutput(dataTable, element);\n",
              "        const docLink = document.createElement('div');\n",
              "        docLink.innerHTML = docLinkHtml;\n",
              "        element.appendChild(docLink);\n",
              "      }\n",
              "    </script>\n",
              "  </div>\n",
              "\n",
              "\n",
              "<div id=\"df-0c4842a3-3329-491a-be29-d263efea42a7\">\n",
              "  <button class=\"colab-df-quickchart\" onclick=\"quickchart('df-0c4842a3-3329-491a-be29-d263efea42a7')\"\n",
              "            title=\"Suggest charts.\"\n",
              "            style=\"display:none;\">\n",
              "\n",
              "<svg xmlns=\"http://www.w3.org/2000/svg\" height=\"24px\"viewBox=\"0 0 24 24\"\n",
              "     width=\"24px\">\n",
              "    <g>\n",
              "        <path d=\"M19 3H5c-1.1 0-2 .9-2 2v14c0 1.1.9 2 2 2h14c1.1 0 2-.9 2-2V5c0-1.1-.9-2-2-2zM9 17H7v-7h2v7zm4 0h-2V7h2v10zm4 0h-2v-4h2v4z\"/>\n",
              "    </g>\n",
              "</svg>\n",
              "  </button>\n",
              "\n",
              "<style>\n",
              "  .colab-df-quickchart {\n",
              "      --bg-color: #E8F0FE;\n",
              "      --fill-color: #1967D2;\n",
              "      --hover-bg-color: #E2EBFA;\n",
              "      --hover-fill-color: #174EA6;\n",
              "      --disabled-fill-color: #AAA;\n",
              "      --disabled-bg-color: #DDD;\n",
              "  }\n",
              "\n",
              "  [theme=dark] .colab-df-quickchart {\n",
              "      --bg-color: #3B4455;\n",
              "      --fill-color: #D2E3FC;\n",
              "      --hover-bg-color: #434B5C;\n",
              "      --hover-fill-color: #FFFFFF;\n",
              "      --disabled-bg-color: #3B4455;\n",
              "      --disabled-fill-color: #666;\n",
              "  }\n",
              "\n",
              "  .colab-df-quickchart {\n",
              "    background-color: var(--bg-color);\n",
              "    border: none;\n",
              "    border-radius: 50%;\n",
              "    cursor: pointer;\n",
              "    display: none;\n",
              "    fill: var(--fill-color);\n",
              "    height: 32px;\n",
              "    padding: 0;\n",
              "    width: 32px;\n",
              "  }\n",
              "\n",
              "  .colab-df-quickchart:hover {\n",
              "    background-color: var(--hover-bg-color);\n",
              "    box-shadow: 0 1px 2px rgba(60, 64, 67, 0.3), 0 1px 3px 1px rgba(60, 64, 67, 0.15);\n",
              "    fill: var(--button-hover-fill-color);\n",
              "  }\n",
              "\n",
              "  .colab-df-quickchart-complete:disabled,\n",
              "  .colab-df-quickchart-complete:disabled:hover {\n",
              "    background-color: var(--disabled-bg-color);\n",
              "    fill: var(--disabled-fill-color);\n",
              "    box-shadow: none;\n",
              "  }\n",
              "\n",
              "  .colab-df-spinner {\n",
              "    border: 2px solid var(--fill-color);\n",
              "    border-color: transparent;\n",
              "    border-bottom-color: var(--fill-color);\n",
              "    animation:\n",
              "      spin 1s steps(1) infinite;\n",
              "  }\n",
              "\n",
              "  @keyframes spin {\n",
              "    0% {\n",
              "      border-color: transparent;\n",
              "      border-bottom-color: var(--fill-color);\n",
              "      border-left-color: var(--fill-color);\n",
              "    }\n",
              "    20% {\n",
              "      border-color: transparent;\n",
              "      border-left-color: var(--fill-color);\n",
              "      border-top-color: var(--fill-color);\n",
              "    }\n",
              "    30% {\n",
              "      border-color: transparent;\n",
              "      border-left-color: var(--fill-color);\n",
              "      border-top-color: var(--fill-color);\n",
              "      border-right-color: var(--fill-color);\n",
              "    }\n",
              "    40% {\n",
              "      border-color: transparent;\n",
              "      border-right-color: var(--fill-color);\n",
              "      border-top-color: var(--fill-color);\n",
              "    }\n",
              "    60% {\n",
              "      border-color: transparent;\n",
              "      border-right-color: var(--fill-color);\n",
              "    }\n",
              "    80% {\n",
              "      border-color: transparent;\n",
              "      border-right-color: var(--fill-color);\n",
              "      border-bottom-color: var(--fill-color);\n",
              "    }\n",
              "    90% {\n",
              "      border-color: transparent;\n",
              "      border-bottom-color: var(--fill-color);\n",
              "    }\n",
              "  }\n",
              "</style>\n",
              "\n",
              "  <script>\n",
              "    async function quickchart(key) {\n",
              "      const quickchartButtonEl =\n",
              "        document.querySelector('#' + key + ' button');\n",
              "      quickchartButtonEl.disabled = true;  // To prevent multiple clicks.\n",
              "      quickchartButtonEl.classList.add('colab-df-spinner');\n",
              "      try {\n",
              "        const charts = await google.colab.kernel.invokeFunction(\n",
              "            'suggestCharts', [key], {});\n",
              "      } catch (error) {\n",
              "        console.error('Error during call to suggestCharts:', error);\n",
              "      }\n",
              "      quickchartButtonEl.classList.remove('colab-df-spinner');\n",
              "      quickchartButtonEl.classList.add('colab-df-quickchart-complete');\n",
              "    }\n",
              "    (() => {\n",
              "      let quickchartButtonEl =\n",
              "        document.querySelector('#df-0c4842a3-3329-491a-be29-d263efea42a7 button');\n",
              "      quickchartButtonEl.style.display =\n",
              "        google.colab.kernel.accessAllowed ? 'block' : 'none';\n",
              "    })();\n",
              "  </script>\n",
              "</div>\n",
              "    </div>\n",
              "  </div>\n"
            ]
          },
          "metadata": {},
          "execution_count": 2
        }
      ],
      "source": [
        "# This reads the data and creates a dataframe\n",
        "df = pd.read_csv('/content/drive/MyDrive/Colab Notebooks/foodhub_order.csv')\n",
        "\n",
        "# This returns the first 5 rows\n",
        "df.head()"
      ]
    },
    {
      "cell_type": "markdown",
      "metadata": {
        "id": "J_Y9aJDJJY_P"
      },
      "source": [
        "#### Observations:\n",
        "\n",
        "The DataFrame has 9 columns as mentioned in the Data Dictionary. Data in each row corresponds to the order placed by a customer."
      ]
    },
    {
      "cell_type": "markdown",
      "metadata": {
        "id": "c3kenV4vJY_Q"
      },
      "source": [
        "### **Question 1:** How many rows and columns are present in the data? [0.5 mark]"
      ]
    },
    {
      "cell_type": "code",
      "execution_count": null,
      "metadata": {
        "id": "Yvz5i-PhJY_Q",
        "colab": {
          "base_uri": "https://localhost:8080/"
        },
        "outputId": "36b17bb2-3b97-4d1f-b074-ec9b5ae1a1c0"
      },
      "outputs": [
        {
          "output_type": "execute_result",
          "data": {
            "text/plain": [
              "(1898, 9)"
            ]
          },
          "metadata": {},
          "execution_count": 3
        }
      ],
      "source": [
        "# Return the shape of the data frame which tells us number of rows and number of columns\n",
        "df.shape"
      ]
    },
    {
      "cell_type": "markdown",
      "metadata": {
        "id": "UsTNy3unJY_R"
      },
      "source": [
        "#### Observations:\n",
        "1898 rows, 9 columns excluding the index."
      ]
    },
    {
      "cell_type": "markdown",
      "metadata": {
        "id": "jRXakVrUJY_R"
      },
      "source": [
        "### **Question 2:** What are the datatypes of the different columns in the dataset? (The info() function can be used) [0.5 mark]"
      ]
    },
    {
      "cell_type": "code",
      "execution_count": null,
      "metadata": {
        "id": "Kp70Z0BNJY_R",
        "colab": {
          "base_uri": "https://localhost:8080/"
        },
        "outputId": "a0c0a525-2793-4b3e-a92e-540178613ef4"
      },
      "outputs": [
        {
          "output_type": "stream",
          "name": "stdout",
          "text": [
            "<class 'pandas.core.frame.DataFrame'>\n",
            "RangeIndex: 1898 entries, 0 to 1897\n",
            "Data columns (total 9 columns):\n",
            " #   Column                 Non-Null Count  Dtype  \n",
            "---  ------                 --------------  -----  \n",
            " 0   order_id               1898 non-null   int64  \n",
            " 1   customer_id            1898 non-null   int64  \n",
            " 2   restaurant_name        1898 non-null   object \n",
            " 3   cuisine_type           1898 non-null   object \n",
            " 4   cost_of_the_order      1898 non-null   float64\n",
            " 5   day_of_the_week        1898 non-null   object \n",
            " 6   rating                 1898 non-null   object \n",
            " 7   food_preparation_time  1898 non-null   int64  \n",
            " 8   delivery_time          1898 non-null   int64  \n",
            "dtypes: float64(1), int64(4), object(4)\n",
            "memory usage: 133.6+ KB\n"
          ]
        }
      ],
      "source": [
        "# Use info() to print a concise summary of the DataFrame\n",
        "df.info()"
      ]
    },
    {
      "cell_type": "markdown",
      "metadata": {
        "id": "WJes5GP2JY_S"
      },
      "source": [
        "#### Observations:\n",
        "Columns have different data types including int64, object, and float64. None of the columns have missing values."
      ]
    },
    {
      "cell_type": "code",
      "source": [],
      "metadata": {
        "id": "IkoQdD2PUdW6"
      },
      "execution_count": null,
      "outputs": []
    },
    {
      "cell_type": "markdown",
      "metadata": {
        "id": "pF_92MN6JY_S"
      },
      "source": [
        "### **Question 3:** Are there any missing values in the data? If yes, treat them using an appropriate method. [1 mark]"
      ]
    },
    {
      "cell_type": "code",
      "execution_count": null,
      "metadata": {
        "id": "Zth-RR1PJY_S",
        "colab": {
          "base_uri": "https://localhost:8080/"
        },
        "outputId": "ada2e35a-4dd2-4b38-e0a6-444873ecd385"
      },
      "outputs": [
        {
          "output_type": "stream",
          "name": "stdout",
          "text": [
            "[]\n"
          ]
        }
      ],
      "source": [
        "# This returns the columns with null values\n",
        "missing_cols = df.columns[df.isnull().any()].tolist()\n",
        "\n",
        "#This prints the result\n",
        "print(missing_cols)\n",
        "\n"
      ]
    },
    {
      "cell_type": "markdown",
      "metadata": {
        "id": "jDHT3vD1JY_S"
      },
      "source": [
        "#### Observations:\n",
        "df.info() already showed there were no missing values but this also confirms with returned empty list."
      ]
    },
    {
      "cell_type": "markdown",
      "metadata": {
        "id": "MnJo7MWrJY_S"
      },
      "source": [
        "### **Question 4:** Check the statistical summary of the data. What is the minimum, average, and maximum time it takes for food to be prepared once an order is placed? [2 marks]"
      ]
    },
    {
      "cell_type": "code",
      "execution_count": null,
      "metadata": {
        "id": "WprQBgOSJY_T",
        "colab": {
          "base_uri": "https://localhost:8080/"
        },
        "outputId": "b16d238a-5a90-41e4-cf49-57da4e0060bf"
      },
      "outputs": [
        {
          "output_type": "stream",
          "name": "stdout",
          "text": [
            "           order_id    customer_id  cost_of_the_order  food_preparation_time  \\\n",
            "count  1.898000e+03    1898.000000        1898.000000            1898.000000   \n",
            "mean   1.477496e+06  171168.478398          16.498851              27.371970   \n",
            "std    5.480497e+02  113698.139743           7.483812               4.632481   \n",
            "min    1.476547e+06    1311.000000           4.470000              20.000000   \n",
            "25%    1.477021e+06   77787.750000          12.080000              23.000000   \n",
            "50%    1.477496e+06  128600.000000          14.140000              27.000000   \n",
            "75%    1.477970e+06  270525.000000          22.297500              31.000000   \n",
            "max    1.478444e+06  405334.000000          35.410000              35.000000   \n",
            "\n",
            "       delivery_time  \n",
            "count    1898.000000  \n",
            "mean       24.161749  \n",
            "std         4.972637  \n",
            "min        15.000000  \n",
            "25%        20.000000  \n",
            "50%        25.000000  \n",
            "75%        28.000000  \n",
            "max        33.000000  \n"
          ]
        }
      ],
      "source": [
        "# This returns important statistics for each continous variable\n",
        "summary = df.describe()\n",
        "\n",
        "#This prints the result\n",
        "print(summary)"
      ]
    },
    {
      "cell_type": "markdown",
      "metadata": {
        "id": "9YbSOR5wJY_T"
      },
      "source": [
        "#### Observations:\n",
        "Time (in minutes) it takes to prepare food:\n",
        "\n",
        "\n",
        "\n",
        "*   min: 20.000000\n",
        "*   avg: 27.371970\n",
        "*   max: 35.000000  "
      ]
    },
    {
      "cell_type": "markdown",
      "metadata": {
        "id": "cw3l58z_JY_T"
      },
      "source": [
        "### **Question 5:** How many orders are not rated? [1 mark]"
      ]
    },
    {
      "cell_type": "code",
      "execution_count": null,
      "metadata": {
        "id": "hEzDUL9wgksi",
        "colab": {
          "base_uri": "https://localhost:8080/"
        },
        "outputId": "ed00ef13-0365-446b-eec0-2fa411b7fc7c"
      },
      "outputs": [
        {
          "output_type": "stream",
          "name": "stdout",
          "text": [
            "Not given    736\n",
            "5            588\n",
            "4            386\n",
            "3            188\n",
            "Name: rating, dtype: int64\n"
          ]
        }
      ],
      "source": [
        "# This returns number of records for each unique \"rating\"\n",
        "count_by_unique = df['rating'].value_counts()\n",
        "\n",
        "#This prints the result\n",
        "print(count_by_unique)"
      ]
    },
    {
      "cell_type": "markdown",
      "metadata": {
        "id": "5E0O_oviJY_T"
      },
      "source": [
        "#### Observations:\n",
        "736 orders were not rated. See below:\n",
        "\n",
        "Not given    736\n"
      ]
    },
    {
      "cell_type": "code",
      "source": [
        "#Let's create a new variable that represents rating values as numerical values\n",
        "df['numericRating'] = pd.to_numeric(df['rating'], errors='coerce')"
      ],
      "metadata": {
        "id": "Pi_4atB8UqvD"
      },
      "execution_count": null,
      "outputs": []
    },
    {
      "cell_type": "markdown",
      "metadata": {
        "id": "7msIfXE-JY_T"
      },
      "source": [
        "### Exploratory Data Analysis (EDA)"
      ]
    },
    {
      "cell_type": "markdown",
      "metadata": {
        "id": "-2xfI28YJY_T"
      },
      "source": [
        "### Univariate Analysis"
      ]
    },
    {
      "cell_type": "markdown",
      "metadata": {
        "id": "0RHZnugBJY_U"
      },
      "source": [
        "### **Question 6:** Explore all the variables and provide observations on their distributions. (Generally, histograms, boxplots, countplots, etc. are used for univariate exploration.) [9 marks]"
      ]
    },
    {
      "cell_type": "code",
      "execution_count": null,
      "metadata": {
        "id": "rU5ZqISjJY_U",
        "colab": {
          "base_uri": "https://localhost:8080/",
          "height": 1000
        },
        "outputId": "7408bb22-65f7-4207-dac5-084fd7b41a0a"
      },
      "outputs": [
        {
          "output_type": "display_data",
          "data": {
            "text/plain": [
              "<Figure size 640x480 with 1 Axes>"
            ],
            "image/png": "[encoded data removed]"
          },
          "metadata": {}
        },
        {
          "output_type": "display_data",
          "data": {
            "text/plain": [
              "<Figure size 640x480 with 1 Axes>"
            ],
            "image/png": "[encoded data removed]"
          },
          "metadata": {}
        },
        {
          "output_type": "display_data",
          "data": {
            "text/plain": [
              "<Figure size 640x480 with 1 Axes>"
            ],
            "image/png": "[encoded data removed]"
          },
          "metadata": {}
        },
        {
          "output_type": "display_data",
          "data": {
            "text/plain": [
              "<Figure size 640x480 with 1 Axes>"
            ],
            "image/png": "[encoded data removed]"
          },
          "metadata": {}
        },
        {
          "output_type": "display_data",
          "data": {
            "text/plain": [
              "<Figure size 640x480 with 1 Axes>"
            ],
            "image/png": "[encoded data removed]"
          },
          "metadata": {}
        },
        {
          "output_type": "display_data",
          "data": {
            "text/plain": [
              "<Figure size 640x480 with 1 Axes>"
            ],
            "image/png": "[encoded data removed]"
          },
          "metadata": {}
        },
        {
          "output_type": "display_data",
          "data": {
            "text/plain": [
              "<Figure size 640x480 with 1 Axes>"
            ],
            "image/png": "[encoded data removed]"
          },
          "metadata": {}
        }
      ],
      "source": [
        "# For easy reference columns and their data types are below:\n",
        "# 0   order_id               1898 non-null   int64\n",
        "# 1   customer_id            1898 non-null   int64\n",
        "# 2   restaurant_name        1898 non-null   object\n",
        "# 3   cuisine_type           1898 non-null   object\n",
        "# 4   cost_of_the_order      1898 non-null   float64\n",
        "# 5   day_of_the_week        1898 non-null   object\n",
        "# 6   rating                 1898 non-null   object\n",
        "# 7   food_preparation_time  1898 non-null   int64\n",
        "# 8   delivery_time          1898 non-null   int64\n",
        "\n",
        "#since order_id and customer_id represents unique id's, I will skip them on this part.\n",
        "#However, we will use customer_id later in the notebook to understand # of orders and other relevant statistics.\n",
        "\n",
        "\n",
        "# COUNT/BAR PLOTS FOR CATEGORICAL VARIABLES\n",
        "# Bar plot for restaurant_name\n",
        "sns.countplot(y=df['restaurant_name'], order=df['restaurant_name'].value_counts().index)\n",
        "plt.title('Distribution of Orders by Restaurant')\n",
        "plt.locator_params(axis='y', nbins=10)\n",
        "plt.show()\n",
        "\n",
        "# Bar plot for cuisine_type\n",
        "sns.countplot(y=df['cuisine_type'], order=df['cuisine_type'].value_counts().index)\n",
        "plt.title('Distribution of Cuisine Types')\n",
        "plt.show()\n",
        "\n",
        "# Bar plot for day_of_the_week\n",
        "sns.countplot(y=df['day_of_the_week'], order=df['day_of_the_week'].value_counts().index)\n",
        "plt.title('Distribution of Orders for Weekdays vs Weekends')\n",
        "plt.show()\n",
        "\n",
        "# Bar plot for rating\n",
        "sns.countplot(y=df['rating'], order=df['rating'].value_counts().index)\n",
        "plt.title('Distribution of the Ratings')\n",
        "plt.show()\n",
        "\n",
        "# HISTOGRAMS FOR CONTINUOUS VARIABLES\n",
        "# Histogram for cost_of_the_order\n",
        "sns.histplot(df['cost_of_the_order'], kde=True)\n",
        "plt.title('Distribution of Order Cost')\n",
        "plt.show()\n",
        "\n",
        "# Histogram for food_preparation_time\n",
        "sns.histplot(df['food_preparation_time'], kde=True)\n",
        "plt.title('Distribution of Food Preperation Time')\n",
        "plt.show()\n",
        "\n",
        "# Histogram for delivery_time\n",
        "sns.histplot(df['delivery_time'], kde=True)\n",
        "plt.title('Distribution of Delivery Time')\n",
        "plt.show()\n",
        "\n"
      ]
    },
    {
      "cell_type": "markdown",
      "metadata": {
        "id": "K9CqA5H_JY_U"
      },
      "source": [
        "### **Question 7**: Which are the top 5 restaurants in terms of the number of orders received? [1 mark]"
      ]
    },
    {
      "cell_type": "code",
      "execution_count": null,
      "metadata": {
        "id": "PaJZ3wlOJY_U",
        "colab": {
          "base_uri": "https://localhost:8080/"
        },
        "outputId": "a4303be7-f9ea-4b1a-a66b-5c1d1ec937e2"
      },
      "outputs": [
        {
          "output_type": "stream",
          "name": "stdout",
          "text": [
            "Shake Shack                  219\n",
            "The Meatball Shop            132\n",
            "Blue Ribbon Sushi            119\n",
            "Blue Ribbon Fried Chicken     96\n",
            "Parm                          68\n",
            "Name: restaurant_name, dtype: int64\n"
          ]
        }
      ],
      "source": [
        "# This returns number of orders per unique restaurant and prints it for the top 5 restaurants\n",
        "top_5_restaurants = df['restaurant_name'].value_counts().head(5)\n",
        "\n",
        "#This prints the result\n",
        "print(top_5_restaurants)"
      ]
    },
    {
      "cell_type": "markdown",
      "metadata": {
        "id": "tnjhWgUfJY_U"
      },
      "source": [
        "#### Observations:\n",
        "Shake Shack has received the highest amount of orders almost doubling the orders of the 2nd and 3rd popular restaurants' orders individually."
      ]
    },
    {
      "cell_type": "markdown",
      "metadata": {
        "id": "gWPMqGq0JY_U"
      },
      "source": [
        "### **Question 8**: Which is the most popular cuisine on weekends? [1 mark]"
      ]
    },
    {
      "cell_type": "code",
      "execution_count": null,
      "metadata": {
        "id": "c-Xnus3VJY_U",
        "colab": {
          "base_uri": "https://localhost:8080/"
        },
        "outputId": "4d463fbb-1fdc-41bb-9874-2ad9727493ca"
      },
      "outputs": [
        {
          "output_type": "stream",
          "name": "stdout",
          "text": [
            "American          415\n",
            "Japanese          335\n",
            "Italian           207\n",
            "Chinese           163\n",
            "Mexican            53\n",
            "Indian             49\n",
            "Mediterranean      32\n",
            "Middle Eastern     32\n",
            "Thai               15\n",
            "French             13\n",
            "Korean             11\n",
            "Southern           11\n",
            "Spanish            11\n",
            "Vietnamese          4\n",
            "Name: cuisine_type, dtype: int64\n"
          ]
        }
      ],
      "source": [
        "# For easy reference columns and their data types are below:\n",
        "# 0   order_id               1898 non-null   int64\n",
        "# 1   customer_id            1898 non-null   int64\n",
        "# 2   restaurant_name        1898 non-null   object\n",
        "# 3   cuisine_type           1898 non-null   object\n",
        "# 4   cost_of_the_order      1898 non-null   float64\n",
        "# 5   day_of_the_week        1898 non-null   object\n",
        "# 6   rating                 1898 non-null   object\n",
        "# 7   food_preparation_time  1898 non-null   int64\n",
        "# 8   delivery_time          1898 non-null   int64\n",
        "\n",
        "# This filters the orders places on weekends\n",
        "weekend_data = df[df['day_of_the_week'].isin(['Weekend'])]\n",
        "\n",
        "#This counts the orders by unique cuisine type for the orders placed on weekends\n",
        "popular_cuisines_weekends = weekend_data['cuisine_type'].value_counts()\n",
        "\n",
        "#This prints the result\n",
        "print(popular_cuisines_weekends)"
      ]
    },
    {
      "cell_type": "markdown",
      "metadata": {
        "id": "bpQ270TUJY_U"
      },
      "source": [
        "#### Observations:\n",
        "American cuisine is the most popular cuisine on weekends."
      ]
    },
    {
      "cell_type": "markdown",
      "metadata": {
        "id": "88xgTqkxJY_U"
      },
      "source": [
        "### **Question 9**: What percentage of the orders cost more than 20 dollars? [2 marks]"
      ]
    },
    {
      "cell_type": "code",
      "execution_count": null,
      "metadata": {
        "id": "OTpHyTdzJY_U",
        "colab": {
          "base_uri": "https://localhost:8080/"
        },
        "outputId": "5053739c-9196-435a-f46b-d2349aa09550"
      },
      "outputs": [
        {
          "output_type": "stream",
          "name": "stdout",
          "text": [
            "29.24% of orders cost more than 20 dollars.\n"
          ]
        }
      ],
      "source": [
        "# For easy reference columns and their data types are below:\n",
        "# 0   order_id               1898 non-null   int64\n",
        "# 1   customer_id            1898 non-null   int64\n",
        "# 2   restaurant_name        1898 non-null   object\n",
        "# 3   cuisine_type           1898 non-null   object\n",
        "# 4   cost_of_the_order      1898 non-null   float64\n",
        "# 5   day_of_the_week        1898 non-null   object\n",
        "# 6   rating                 1898 non-null   object\n",
        "# 7   food_preparation_time  1898 non-null   int64\n",
        "# 8   delivery_time          1898 non-null   int64\n",
        "\n",
        "#This filters and calculates the length of orders that cost more than $20\n",
        "num_orders_over_20 = len(df[df['cost_of_the_order']>20])\n",
        "\n",
        "#This calculates the length of the entire data\n",
        "total_orders = len(df)\n",
        "\n",
        "#This calculates the pct of orders over $20\n",
        "pct_over_20 = (num_orders_over_20 / total_orders) * 100\n",
        "\n",
        "#This prints the result\n",
        "print(f\"{pct_over_20:.2f}% of orders cost more than 20 dollars.\")"
      ]
    },
    {
      "cell_type": "markdown",
      "metadata": {
        "id": "77KNAC5zJY_U"
      },
      "source": [
        "#### Observations:\n",
        "29.24% of orders cost more than 20 dollars."
      ]
    },
    {
      "cell_type": "markdown",
      "metadata": {
        "id": "HFyHn7hsJY_V"
      },
      "source": [
        "### **Question 10**: What is the mean order delivery time? [1 mark]"
      ]
    },
    {
      "cell_type": "code",
      "execution_count": null,
      "metadata": {
        "id": "cyFL13hNJY_V",
        "colab": {
          "base_uri": "https://localhost:8080/"
        },
        "outputId": "2b607a98-5e47-4ccc-e351-813b1e805938"
      },
      "outputs": [
        {
          "output_type": "stream",
          "name": "stdout",
          "text": [
            "24.161749209694417\n"
          ]
        }
      ],
      "source": [
        "# For easy reference columns and their data types are below:\n",
        "# 0   order_id               1898 non-null   int64\n",
        "# 1   customer_id            1898 non-null   int64\n",
        "# 2   restaurant_name        1898 non-null   object\n",
        "# 3   cuisine_type           1898 non-null   object\n",
        "# 4   cost_of_the_order      1898 non-null   float64\n",
        "# 5   day_of_the_week        1898 non-null   object\n",
        "# 6   rating                 1898 non-null   object\n",
        "# 7   food_preparation_time  1898 non-null   int64\n",
        "# 8   delivery_time          1898 non-null   int64\n",
        "\n",
        "#This calculates the mean of delivery times\n",
        "mean_delivery_time = df['delivery_time'].mean()\n",
        "\n",
        "#This prints the result\n",
        "print(mean_delivery_time)"
      ]
    },
    {
      "cell_type": "markdown",
      "metadata": {
        "id": "F35SRV-HJY_V"
      },
      "source": [
        "#### Observations:\n",
        "24.161749209694417 minutes\n"
      ]
    },
    {
      "cell_type": "markdown",
      "metadata": {
        "id": "48IjaOuDJY_V"
      },
      "source": [
        "### **Question 11:** The company has decided to give 20% discount vouchers to the top 3 most frequent customers. Find the IDs of these customers and the number of orders they placed. [1 mark]"
      ]
    },
    {
      "cell_type": "code",
      "execution_count": null,
      "metadata": {
        "id": "Hz8-DE4Zge0j",
        "colab": {
          "base_uri": "https://localhost:8080/"
        },
        "outputId": "38304821-5bc9-4c99-ed6c-6b75f05ab976"
      },
      "outputs": [
        {
          "output_type": "stream",
          "name": "stdout",
          "text": [
            "52832    13\n",
            "47440    10\n",
            "83287     9\n",
            "Name: customer_id, dtype: int64\n"
          ]
        }
      ],
      "source": [
        "#This filters the top 3 customers based on the number of orders\n",
        "top_3_customers = df['customer_id'].value_counts().head(3)\n",
        "\n",
        "#This prints the result\n",
        "print(top_3_customers)"
      ]
    },
    {
      "cell_type": "markdown",
      "metadata": {
        "id": "9tWVwfX6JY_V"
      },
      "source": [
        "#### Observations:\n",
        "\n",
        "1.   customer 52832 ordered 13 times\n",
        "2.   customer 47440 ordered 10 times\n",
        "3.   customer 83287 ordered 9 times\n"
      ]
    },
    {
      "cell_type": "markdown",
      "metadata": {
        "id": "AfIc2jPaJY_V"
      },
      "source": [
        "### Multivariate Analysis"
      ]
    },
    {
      "cell_type": "markdown",
      "metadata": {
        "id": "iqiS0RT_JY_V"
      },
      "source": [
        "### **Question 12**: Perform a multivariate analysis to explore relationships between the important variables in the dataset. (It is a good idea to explore relations between numerical variables as well as relations between numerical and categorical variables) [10 marks]\n"
      ]
    },
    {
      "cell_type": "code",
      "execution_count": null,
      "metadata": {
        "id": "3qt4MCNTJY_V",
        "colab": {
          "base_uri": "https://localhost:8080/",
          "height": 652
        },
        "outputId": "e2233bf3-f0bd-4b13-e504-91af5b909c29"
      },
      "outputs": [
        {
          "output_type": "stream",
          "name": "stderr",
          "text": [
            "<ipython-input-15-a9a6251c37aa>:3: FutureWarning: The default value of numeric_only in DataFrame.corr is deprecated. In a future version, it will default to False. Select only valid columns or specify the value of numeric_only to silence this warning.\n",
            "  corr = df.corr()\n"
          ]
        },
        {
          "output_type": "execute_result",
          "data": {
            "text/plain": [
              "<Axes: >"
            ]
          },
          "metadata": {},
          "execution_count": 15
        },
        {
          "output_type": "display_data",
          "data": {
            "text/plain": [
              "<Figure size 1100x900 with 2 Axes>"
            ],
            "image/png": "[encoded data removed]"
          },
          "metadata": {}
        }
      ],
      "source": [
        "# Correlation between numerical variables\n",
        "# Calculate the correlation matrix for numerical variables\n",
        "corr = df.corr()\n",
        "\n",
        "# Generate a mask for the upper triangle\n",
        "mask = np.triu(np.ones_like(corr, dtype=bool))\n",
        "\n",
        "# Set up the matplotlib figure\n",
        "f, ax = plt.subplots(figsize=(11, 9))\n",
        "\n",
        "# Generate a custom diverging colormap\n",
        "cmap = sns.diverging_palette(230, 20, as_cmap=True)\n",
        "\n",
        "# Draw the heatmap with the mask and correct aspect ratio\n",
        "sns.heatmap(corr, mask=mask, cmap=cmap, vmax=.3, center=0,\n",
        "            square=True, linewidths=.5, cbar_kws={\"shrink\": .5})"
      ]
    },
    {
      "cell_type": "code",
      "source": [
        "# Since our correlation matrix showed that there is a correlation between food prep time and cost of the order, let's have a close look at it.\n",
        "sns.lineplot(data=df,x=\"food_preparation_time\", y=\"cost_of_the_order\")\n",
        "\n",
        "# It looks like as the food prep time increases, cost of the order increases as well."
      ],
      "metadata": {
        "colab": {
          "base_uri": "https://localhost:8080/",
          "height": 467
        },
        "id": "svryNs-rRWTS",
        "outputId": "b47f4d70-11fb-4972-e42f-38e80c8d5858"
      },
      "execution_count": null,
      "outputs": [
        {
          "output_type": "execute_result",
          "data": {
            "text/plain": [
              "<Axes: xlabel='food_preparation_time', ylabel='cost_of_the_order'>"
            ]
          },
          "metadata": {},
          "execution_count": 16
        },
        {
          "output_type": "display_data",
          "data": {
            "text/plain": [
              "<Figure size 640x480 with 1 Axes>"
            ],
            "image/png": "[encoded data removed]"
          },
          "metadata": {}
        }
      ]
    },
    {
      "cell_type": "code",
      "source": [
        "#Relationship between food prep time, delivery time, and when the order is placed.\n",
        "sns.scatterplot(data=df, x='food_preparation_time', y='delivery_time', hue='day_of_the_week')\n",
        "\n",
        "#It looks like there is no relationship between when the order is placed vs food prep time, while there is clear relationship between how long the delivery takes and when the order is placed.\n"
      ],
      "metadata": {
        "colab": {
          "base_uri": "https://localhost:8080/",
          "height": 467
        },
        "id": "j0nbkbXmNKXc",
        "outputId": "cdea0b9e-419c-4175-ba4f-4f847b61599a"
      },
      "execution_count": null,
      "outputs": [
        {
          "output_type": "execute_result",
          "data": {
            "text/plain": [
              "<Axes: xlabel='food_preparation_time', ylabel='delivery_time'>"
            ]
          },
          "metadata": {},
          "execution_count": 17
        },
        {
          "output_type": "display_data",
          "data": {
            "text/plain": [
              "<Figure size 640x480 with 1 Axes>"
            ],
            "image/png": "[encoded data removed]"
          },
          "metadata": {}
        }
      ]
    },
    {
      "cell_type": "code",
      "source": [
        "# Relationship between cost of the order and when the order is placed.\n",
        "sns.displot(\n",
        "    data=df,\n",
        "    x=\"cost_of_the_order\", hue=\"day_of_the_week\",\n",
        "    kind=\"kde\", height=6,\n",
        "    multiple=\"fill\", clip=(4.47, 35.41), #used min and max values of cost of the order\n",
        "    palette=\"ch:rot=-.25,hue=1,light=.75\",\n",
        ")\n",
        "\n",
        "#It looks like there is not much relationship between how much the order costs vs when it's placed."
      ],
      "metadata": {
        "colab": {
          "base_uri": "https://localhost:8080/",
          "height": 543
        },
        "id": "YYjjJC4EPjAU",
        "outputId": "fb51d9df-3d8a-4bbd-dee5-7c2b7603ce8c"
      },
      "execution_count": null,
      "outputs": [
        {
          "output_type": "execute_result",
          "data": {
            "text/plain": [
              "<seaborn.axisgrid.FacetGrid at 0x7f7ec7697130>"
            ]
          },
          "metadata": {},
          "execution_count": 18
        },
        {
          "output_type": "display_data",
          "data": {
            "text/plain": [
              "<Figure size 730.611x600 with 1 Axes>"
            ],
            "image/png": "[encoded data removed]"
          },
          "metadata": {}
        }
      ]
    },
    {
      "cell_type": "code",
      "source": [
        "#Let's calculate the average rating for each cuisine type\n",
        "cuisineRatings=df.groupby('cuisine_type').agg({'numericRating':['mean']})\n",
        "\n",
        "#Rename the average rating column\n",
        "cuisineRatings.columns = ['cuisineMeanRating']\n",
        "\n",
        "#This prints the result\n",
        "cuisineRatings.sort_values(by=['cuisineMeanRating'])"
      ],
      "metadata": {
        "colab": {
          "base_uri": "https://localhost:8080/",
          "height": 520
        },
        "id": "TlQpMw69YCoy",
        "outputId": "c16a15f8-2661-4f6f-ecf5-b85a68efa21e"
      },
      "execution_count": null,
      "outputs": [
        {
          "output_type": "execute_result",
          "data": {
            "text/plain": [
              "                cuisineMeanRating\n",
              "cuisine_type                     \n",
              "Vietnamese               4.000000\n",
              "Korean                   4.111111\n",
              "Mediterranean            4.218750\n",
              "Middle Eastern           4.235294\n",
              "American                 4.298913\n",
              "French                   4.300000\n",
              "Southern                 4.307692\n",
              "Chinese                  4.338346\n",
              "Italian                  4.360465\n",
              "Japanese                 4.373626\n",
              "Mexican                  4.416667\n",
              "Indian                   4.540000\n",
              "Thai                     4.666667\n",
              "Spanish                  4.833333"
            ],
            "text/html": [
              "\n",
              "  <div id=\"df-bb2c48e5-bf43-46e7-aa58-474525c42900\" class=\"colab-df-container\">\n",
              "    <div>\n",
              "<style scoped>\n",
              "    .dataframe tbody tr th:only-of-type {\n",
              "        vertical-align: middle;\n",
              "    }\n",
              "\n",
              "    .dataframe tbody tr th {\n",
              "        vertical-align: top;\n",
              "    }\n",
              "\n",
              "    .dataframe thead th {\n",
              "        text-align: right;\n",
              "    }\n",
              "</style>\n",
              "<table border=\"1\" class=\"dataframe\">\n",
              "  <thead>\n",
              "    <tr style=\"text-align: right;\">\n",
              "      <th></th>\n",
              "      <th>cuisineMeanRating</th>\n",
              "    </tr>\n",
              "    <tr>\n",
              "      <th>cuisine_type</th>\n",
              "      <th></th>\n",
              "    </tr>\n",
              "  </thead>\n",
              "  <tbody>\n",
              "    <tr>\n",
              "      <th>Vietnamese</th>\n",
              "      <td>4.000000</td>\n",
              "    </tr>\n",
              "    <tr>\n",
              "      <th>Korean</th>\n",
              "      <td>4.111111</td>\n",
              "    </tr>\n",
              "    <tr>\n",
              "      <th>Mediterranean</th>\n",
              "      <td>4.218750</td>\n",
              "    </tr>\n",
              "    <tr>\n",
              "      <th>Middle Eastern</th>\n",
              "      <td>4.235294</td>\n",
              "    </tr>\n",
              "    <tr>\n",
              "      <th>American</th>\n",
              "      <td>4.298913</td>\n",
              "    </tr>\n",
              "    <tr>\n",
              "      <th>French</th>\n",
              "      <td>4.300000</td>\n",
              "    </tr>\n",
              "    <tr>\n",
              "      <th>Southern</th>\n",
              "      <td>4.307692</td>\n",
              "    </tr>\n",
              "    <tr>\n",
              "      <th>Chinese</th>\n",
              "      <td>4.338346</td>\n",
              "    </tr>\n",
              "    <tr>\n",
              "      <th>Italian</th>\n",
              "      <td>4.360465</td>\n",
              "    </tr>\n",
              "    <tr>\n",
              "      <th>Japanese</th>\n",
              "      <td>4.373626</td>\n",
              "    </tr>\n",
              "    <tr>\n",
              "      <th>Mexican</th>\n",
              "      <td>4.416667</td>\n",
              "    </tr>\n",
              "    <tr>\n",
              "      <th>Indian</th>\n",
              "      <td>4.540000</td>\n",
              "    </tr>\n",
              "    <tr>\n",
              "      <th>Thai</th>\n",
              "      <td>4.666667</td>\n",
              "    </tr>\n",
              "    <tr>\n",
              "      <th>Spanish</th>\n",
              "      <td>4.833333</td>\n",
              "    </tr>\n",
              "  </tbody>\n",
              "</table>\n",
              "</div>\n",
              "    <div class=\"colab-df-buttons\">\n",
              "\n",
              "  <div class=\"colab-df-container\">\n",
              "    <button class=\"colab-df-convert\" onclick=\"convertToInteractive('df-bb2c48e5-bf43-46e7-aa58-474525c42900')\"\n",
              "            title=\"Convert this dataframe to an interactive table.\"\n",
              "            style=\"display:none;\">\n",
              "\n",
              "  <svg xmlns=\"http://www.w3.org/2000/svg\" height=\"24px\" viewBox=\"0 -960 960 960\">\n",
              "    <path d=\"M120-120v-720h720v720H120Zm60-500h600v-160H180v160Zm220 220h160v-160H400v160Zm0 220h160v-160H400v160ZM180-400h160v-160H180v160Zm440 0h160v-160H620v160ZM180-180h160v-160H180v160Zm440 0h160v-160H620v160Z\"/>\n",
              "  </svg>\n",
              "    </button>\n",
              "\n",
              "  <style>\n",
              "    .colab-df-container {\n",
              "      display:flex;\n",
              "      gap: 12px;\n",
              "    }\n",
              "\n",
              "    .colab-df-convert {\n",
              "      background-color: #E8F0FE;\n",
              "      border: none;\n",
              "      border-radius: 50%;\n",
              "      cursor: pointer;\n",
              "      display: none;\n",
              "      fill: #1967D2;\n",
              "      height: 32px;\n",
              "      padding: 0 0 0 0;\n",
              "      width: 32px;\n",
              "    }\n",
              "\n",
              "    .colab-df-convert:hover {\n",
              "      background-color: #E2EBFA;\n",
              "      box-shadow: 0px 1px 2px rgba(60, 64, 67, 0.3), 0px 1px 3px 1px rgba(60, 64, 67, 0.15);\n",
              "      fill: #174EA6;\n",
              "    }\n",
              "\n",
              "    .colab-df-buttons div {\n",
              "      margin-bottom: 4px;\n",
              "    }\n",
              "\n",
              "    [theme=dark] .colab-df-convert {\n",
              "      background-color: #3B4455;\n",
              "      fill: #D2E3FC;\n",
              "    }\n",
              "\n",
              "    [theme=dark] .colab-df-convert:hover {\n",
              "      background-color: #434B5C;\n",
              "      box-shadow: 0px 1px 3px 1px rgba(0, 0, 0, 0.15);\n",
              "      filter: drop-shadow(0px 1px 2px rgba(0, 0, 0, 0.3));\n",
              "      fill: #FFFFFF;\n",
              "    }\n",
              "  </style>\n",
              "\n",
              "    <script>\n",
              "      const buttonEl =\n",
              "        document.querySelector('#df-bb2c48e5-bf43-46e7-aa58-474525c42900 button.colab-df-convert');\n",
              "      buttonEl.style.display =\n",
              "        google.colab.kernel.accessAllowed ? 'block' : 'none';\n",
              "\n",
              "      async function convertToInteractive(key) {\n",
              "        const element = document.querySelector('#df-bb2c48e5-bf43-46e7-aa58-474525c42900');\n",
              "        const dataTable =\n",
              "          await google.colab.kernel.invokeFunction('convertToInteractive',\n",
              "                                                    [key], {});\n",
              "        if (!dataTable) return;\n",
              "\n",
              "        const docLinkHtml = 'Like what you see? Visit the ' +\n",
              "          '<a target=\"_blank\" href=https://colab.research.google.com/notebooks/data_table.ipynb>data table notebook</a>'\n",
              "          + ' to learn more about interactive tables.';\n",
              "        element.innerHTML = '';\n",
              "        dataTable['output_type'] = 'display_data';\n",
              "        await google.colab.output.renderOutput(dataTable, element);\n",
              "        const docLink = document.createElement('div');\n",
              "        docLink.innerHTML = docLinkHtml;\n",
              "        element.appendChild(docLink);\n",
              "      }\n",
              "    </script>\n",
              "  </div>\n",
              "\n",
              "\n",
              "<div id=\"df-0acace5a-5e06-4798-803b-114651baad18\">\n",
              "  <button class=\"colab-df-quickchart\" onclick=\"quickchart('df-0acace5a-5e06-4798-803b-114651baad18')\"\n",
              "            title=\"Suggest charts.\"\n",
              "            style=\"display:none;\">\n",
              "\n",
              "<svg xmlns=\"http://www.w3.org/2000/svg\" height=\"24px\"viewBox=\"0 0 24 24\"\n",
              "     width=\"24px\">\n",
              "    <g>\n",
              "        <path d=\"M19 3H5c-1.1 0-2 .9-2 2v14c0 1.1.9 2 2 2h14c1.1 0 2-.9 2-2V5c0-1.1-.9-2-2-2zM9 17H7v-7h2v7zm4 0h-2V7h2v10zm4 0h-2v-4h2v4z\"/>\n",
              "    </g>\n",
              "</svg>\n",
              "  </button>\n",
              "\n",
              "<style>\n",
              "  .colab-df-quickchart {\n",
              "      --bg-color: #E8F0FE;\n",
              "      --fill-color: #1967D2;\n",
              "      --hover-bg-color: #E2EBFA;\n",
              "      --hover-fill-color: #174EA6;\n",
              "      --disabled-fill-color: #AAA;\n",
              "      --disabled-bg-color: #DDD;\n",
              "  }\n",
              "\n",
              "  [theme=dark] .colab-df-quickchart {\n",
              "      --bg-color: #3B4455;\n",
              "      --fill-color: #D2E3FC;\n",
              "      --hover-bg-color: #434B5C;\n",
              "      --hover-fill-color: #FFFFFF;\n",
              "      --disabled-bg-color: #3B4455;\n",
              "      --disabled-fill-color: #666;\n",
              "  }\n",
              "\n",
              "  .colab-df-quickchart {\n",
              "    background-color: var(--bg-color);\n",
              "    border: none;\n",
              "    border-radius: 50%;\n",
              "    cursor: pointer;\n",
              "    display: none;\n",
              "    fill: var(--fill-color);\n",
              "    height: 32px;\n",
              "    padding: 0;\n",
              "    width: 32px;\n",
              "  }\n",
              "\n",
              "  .colab-df-quickchart:hover {\n",
              "    background-color: var(--hover-bg-color);\n",
              "    box-shadow: 0 1px 2px rgba(60, 64, 67, 0.3), 0 1px 3px 1px rgba(60, 64, 67, 0.15);\n",
              "    fill: var(--button-hover-fill-color);\n",
              "  }\n",
              "\n",
              "  .colab-df-quickchart-complete:disabled,\n",
              "  .colab-df-quickchart-complete:disabled:hover {\n",
              "    background-color: var(--disabled-bg-color);\n",
              "    fill: var(--disabled-fill-color);\n",
              "    box-shadow: none;\n",
              "  }\n",
              "\n",
              "  .colab-df-spinner {\n",
              "    border: 2px solid var(--fill-color);\n",
              "    border-color: transparent;\n",
              "    border-bottom-color: var(--fill-color);\n",
              "    animation:\n",
              "      spin 1s steps(1) infinite;\n",
              "  }\n",
              "\n",
              "  @keyframes spin {\n",
              "    0% {\n",
              "      border-color: transparent;\n",
              "      border-bottom-color: var(--fill-color);\n",
              "      border-left-color: var(--fill-color);\n",
              "    }\n",
              "    20% {\n",
              "      border-color: transparent;\n",
              "      border-left-color: var(--fill-color);\n",
              "      border-top-color: var(--fill-color);\n",
              "    }\n",
              "    30% {\n",
              "      border-color: transparent;\n",
              "      border-left-color: var(--fill-color);\n",
              "      border-top-color: var(--fill-color);\n",
              "      border-right-color: var(--fill-color);\n",
              "    }\n",
              "    40% {\n",
              "      border-color: transparent;\n",
              "      border-right-color: var(--fill-color);\n",
              "      border-top-color: var(--fill-color);\n",
              "    }\n",
              "    60% {\n",
              "      border-color: transparent;\n",
              "      border-right-color: var(--fill-color);\n",
              "    }\n",
              "    80% {\n",
              "      border-color: transparent;\n",
              "      border-right-color: var(--fill-color);\n",
              "      border-bottom-color: var(--fill-color);\n",
              "    }\n",
              "    90% {\n",
              "      border-color: transparent;\n",
              "      border-bottom-color: var(--fill-color);\n",
              "    }\n",
              "  }\n",
              "</style>\n",
              "\n",
              "  <script>\n",
              "    async function quickchart(key) {\n",
              "      const quickchartButtonEl =\n",
              "        document.querySelector('#' + key + ' button');\n",
              "      quickchartButtonEl.disabled = true;  // To prevent multiple clicks.\n",
              "      quickchartButtonEl.classList.add('colab-df-spinner');\n",
              "      try {\n",
              "        const charts = await google.colab.kernel.invokeFunction(\n",
              "            'suggestCharts', [key], {});\n",
              "      } catch (error) {\n",
              "        console.error('Error during call to suggestCharts:', error);\n",
              "      }\n",
              "      quickchartButtonEl.classList.remove('colab-df-spinner');\n",
              "      quickchartButtonEl.classList.add('colab-df-quickchart-complete');\n",
              "    }\n",
              "    (() => {\n",
              "      let quickchartButtonEl =\n",
              "        document.querySelector('#df-0acace5a-5e06-4798-803b-114651baad18 button');\n",
              "      quickchartButtonEl.style.display =\n",
              "        google.colab.kernel.accessAllowed ? 'block' : 'none';\n",
              "    })();\n",
              "  </script>\n",
              "</div>\n",
              "    </div>\n",
              "  </div>\n"
            ]
          },
          "metadata": {},
          "execution_count": 19
        }
      ]
    },
    {
      "cell_type": "markdown",
      "metadata": {
        "id": "YLkMf09YJY_V"
      },
      "source": [
        "### **Question 13:** The company wants to provide a promotional offer in the advertisement of the restaurants. The condition to get the offer is that the restaurants must have a rating count of more than 50 and the average rating should be greater than 4. Find the restaurants fulfilling the criteria to get the promotional offer. [3 marks]"
      ]
    },
    {
      "cell_type": "code",
      "execution_count": null,
      "metadata": {
        "id": "0M_QDvbYJY_V",
        "colab": {
          "base_uri": "https://localhost:8080/"
        },
        "outputId": "a5643d1d-3efc-4a04-9446-6af97b30f896"
      },
      "outputs": [
        {
          "output_type": "stream",
          "name": "stdout",
          "text": [
            "['Blue Ribbon Fried Chicken', 'Blue Ribbon Sushi', 'Shake Shack', 'The Meatball Shop']\n"
          ]
        }
      ],
      "source": [
        "# For easy reference columns and their data types are below:\n",
        "# 0   order_id               1898 non-null   int64\n",
        "# 1   customer_id            1898 non-null   int64\n",
        "# 2   restaurant_name        1898 non-null   object\n",
        "# 3   cuisine_type           1898 non-null   object\n",
        "# 4   cost_of_the_order      1898 non-null   float64\n",
        "# 5   day_of_the_week        1898 non-null   object\n",
        "# 6   rating                 1898 non-null   object\n",
        "# 7   food_preparation_time  1898 non-null   int64\n",
        "# 8   delivery_time          1898 non-null   int64\n",
        "\n",
        "#Previously we created a new variable called 'numericRating' so that we can use the categorical rating values for numerical calculations.\n",
        "#This creates new columns based on rating's count and mean grouped by restaurant name\n",
        "grouped=df.groupby('restaurant_name').agg({'numericRating':['count','mean']})\n",
        "\n",
        "#This renames the new columns for easier referencing\n",
        "grouped.columns = ['rating_count','average_rating']\n",
        "\n",
        "#This filters the data to identify eligible restaurants\n",
        "eligible_restaurants = grouped[(grouped['rating_count']>50) & (grouped['average_rating']>4)]\n",
        "\n",
        "#This creates a list so we can print the results\n",
        "restaurant_list = eligible_restaurants.index.tolist()\n",
        "\n",
        "#This prints the result\n",
        "print(restaurant_list)"
      ]
    },
    {
      "cell_type": "markdown",
      "metadata": {
        "id": "10uryUMhJY_V"
      },
      "source": [
        "#### Observations:\n",
        "First I transformed rating column to a numeric column because it was an object. Then I calculated counts and means of each rating by each restaurant. Renamed the counts and means and filtered them by 50 and 5 respectively.\n",
        "\n",
        "Eligible restaurants for this promotional offer are these: 'Blue Ribbon Fried Chicken', 'Blue Ribbon Sushi', 'Shake Shack', 'The Meatball Shop'"
      ]
    },
    {
      "cell_type": "markdown",
      "metadata": {
        "id": "1gvWBkRUJY_V"
      },
      "source": [
        "### **Question 14:** The company charges the restaurant 25% on the orders having cost greater than 20 dollars and 15% on the orders having cost greater than 5 dollars. Find the net revenue generated by the company across all orders. [3 marks]"
      ]
    },
    {
      "cell_type": "code",
      "execution_count": null,
      "metadata": {
        "id": "rEjbnTNEJY_W",
        "colab": {
          "base_uri": "https://localhost:8080/"
        },
        "outputId": "0c6428bd-4779-4025-b834-611b933bf118"
      },
      "outputs": [
        {
          "output_type": "stream",
          "name": "stdout",
          "text": [
            "6166.303\n"
          ]
        }
      ],
      "source": [
        "# For easy reference columns and their data types are below:\n",
        "# 0   order_id               1898 non-null   int64\n",
        "# 1   customer_id            1898 non-null   int64\n",
        "# 2   restaurant_name        1898 non-null   object\n",
        "# 3   cuisine_type           1898 non-null   object\n",
        "# 4   cost_of_the_order      1898 non-null   float64\n",
        "# 5   day_of_the_week        1898 non-null   object\n",
        "# 6   rating                 1898 non-null   object\n",
        "# 7   food_preparation_time  1898 non-null   int64\n",
        "# 8   delivery_time          1898 non-null   int64\n",
        "\n",
        "# A function to calculate our fees based on the order size and our % based fee structure.\n",
        "# Assumption is that we don't charge anything if the order is below $5.\n",
        "def calculate_revenue(cost_of_the_order):\n",
        "    if cost_of_the_order > 20:\n",
        "        return cost_of_the_order * 0.25\n",
        "    elif cost_of_the_order > 5:\n",
        "        return cost_of_the_order * 0.15\n",
        "    else:\n",
        "        return 0\n",
        "\n",
        "#This creates a new column for revenue and calculates the revenue using the function implemented above\n",
        "df['revenue'] = df['cost_of_the_order'].apply(calculate_revenue)\n",
        "\n",
        "#This calculates the total revenue\n",
        "net_revenue = df['revenue'].sum()\n",
        "\n",
        "#This prints the results\n",
        "print(net_revenue)\n"
      ]
    },
    {
      "cell_type": "markdown",
      "metadata": {
        "id": "XHCEJgH0JY_W"
      },
      "source": [
        "#### Observations:\n",
        "Assuming that we are not charging anything if the order is below 5 dollars, our total revenue would be $6166.303."
      ]
    },
    {
      "cell_type": "code",
      "source": [
        "#This creates mean and sum revenue columns based on cuisine type\n",
        "revenueByCuisine=df.groupby('cuisine_type').agg({'revenue':['mean','sum']})\n",
        "\n",
        "#This renames the new columns for easier referencing\n",
        "revenueByCuisine.columns = ['meanRevenueByCuisine','sumRevenueByCuisine']\n",
        "\n",
        "#This shows the results\n",
        "revenueByCuisine.sort_values(by=['meanRevenueByCuisine'])"
      ],
      "metadata": {
        "colab": {
          "base_uri": "https://localhost:8080/",
          "height": 520
        },
        "id": "7m112z_BcZb8",
        "outputId": "1789499f-0ce2-45e6-8502-cfdd735e49e8"
      },
      "execution_count": null,
      "outputs": [
        {
          "output_type": "execute_result",
          "data": {
            "text/plain": [
              "                meanRevenueByCuisine  sumRevenueByCuisine\n",
              "cuisine_type                                             \n",
              "Vietnamese                  2.250429              15.7530\n",
              "Korean                      2.561769              33.3030\n",
              "Mediterranean               2.963652             136.3280\n",
              "Japanese                    3.145201            1478.2445\n",
              "Chinese                     3.209491             690.0405\n",
              "American                    3.216223            1878.2740\n",
              "Italian                     3.244579             966.8845\n",
              "Mexican                     3.333675             256.6930\n",
              "Indian                      3.383479             246.9940\n",
              "Spanish                     3.936375              47.2365\n",
              "Middle Eastern              3.950071             193.5535\n",
              "Southern                    4.044324              68.7535\n",
              "Thai                        4.108026              78.0525\n",
              "French                      4.232917              76.1925"
            ],
            "text/html": [
              "\n",
              "  <div id=\"df-e40144f7-f9d4-40d6-a617-6f572db59d93\" class=\"colab-df-container\">\n",
              "    <div>\n",
              "<style scoped>\n",
              "    .dataframe tbody tr th:only-of-type {\n",
              "        vertical-align: middle;\n",
              "    }\n",
              "\n",
              "    .dataframe tbody tr th {\n",
              "        vertical-align: top;\n",
              "    }\n",
              "\n",
              "    .dataframe thead th {\n",
              "        text-align: right;\n",
              "    }\n",
              "</style>\n",
              "<table border=\"1\" class=\"dataframe\">\n",
              "  <thead>\n",
              "    <tr style=\"text-align: right;\">\n",
              "      <th></th>\n",
              "      <th>meanRevenueByCuisine</th>\n",
              "      <th>sumRevenueByCuisine</th>\n",
              "    </tr>\n",
              "    <tr>\n",
              "      <th>cuisine_type</th>\n",
              "      <th></th>\n",
              "      <th></th>\n",
              "    </tr>\n",
              "  </thead>\n",
              "  <tbody>\n",
              "    <tr>\n",
              "      <th>Vietnamese</th>\n",
              "      <td>2.250429</td>\n",
              "      <td>15.7530</td>\n",
              "    </tr>\n",
              "    <tr>\n",
              "      <th>Korean</th>\n",
              "      <td>2.561769</td>\n",
              "      <td>33.3030</td>\n",
              "    </tr>\n",
              "    <tr>\n",
              "      <th>Mediterranean</th>\n",
              "      <td>2.963652</td>\n",
              "      <td>136.3280</td>\n",
              "    </tr>\n",
              "    <tr>\n",
              "      <th>Japanese</th>\n",
              "      <td>3.145201</td>\n",
              "      <td>1478.2445</td>\n",
              "    </tr>\n",
              "    <tr>\n",
              "      <th>Chinese</th>\n",
              "      <td>3.209491</td>\n",
              "      <td>690.0405</td>\n",
              "    </tr>\n",
              "    <tr>\n",
              "      <th>American</th>\n",
              "      <td>3.216223</td>\n",
              "      <td>1878.2740</td>\n",
              "    </tr>\n",
              "    <tr>\n",
              "      <th>Italian</th>\n",
              "      <td>3.244579</td>\n",
              "      <td>966.8845</td>\n",
              "    </tr>\n",
              "    <tr>\n",
              "      <th>Mexican</th>\n",
              "      <td>3.333675</td>\n",
              "      <td>256.6930</td>\n",
              "    </tr>\n",
              "    <tr>\n",
              "      <th>Indian</th>\n",
              "      <td>3.383479</td>\n",
              "      <td>246.9940</td>\n",
              "    </tr>\n",
              "    <tr>\n",
              "      <th>Spanish</th>\n",
              "      <td>3.936375</td>\n",
              "      <td>47.2365</td>\n",
              "    </tr>\n",
              "    <tr>\n",
              "      <th>Middle Eastern</th>\n",
              "      <td>3.950071</td>\n",
              "      <td>193.5535</td>\n",
              "    </tr>\n",
              "    <tr>\n",
              "      <th>Southern</th>\n",
              "      <td>4.044324</td>\n",
              "      <td>68.7535</td>\n",
              "    </tr>\n",
              "    <tr>\n",
              "      <th>Thai</th>\n",
              "      <td>4.108026</td>\n",
              "      <td>78.0525</td>\n",
              "    </tr>\n",
              "    <tr>\n",
              "      <th>French</th>\n",
              "      <td>4.232917</td>\n",
              "      <td>76.1925</td>\n",
              "    </tr>\n",
              "  </tbody>\n",
              "</table>\n",
              "</div>\n",
              "    <div class=\"colab-df-buttons\">\n",
              "\n",
              "  <div class=\"colab-df-container\">\n",
              "    <button class=\"colab-df-convert\" onclick=\"convertToInteractive('df-e40144f7-f9d4-40d6-a617-6f572db59d93')\"\n",
              "            title=\"Convert this dataframe to an interactive table.\"\n",
              "            style=\"display:none;\">\n",
              "\n",
              "  <svg xmlns=\"http://www.w3.org/2000/svg\" height=\"24px\" viewBox=\"0 -960 960 960\">\n",
              "    <path d=\"M120-120v-720h720v720H120Zm60-500h600v-160H180v160Zm220 220h160v-160H400v160Zm0 220h160v-160H400v160ZM180-400h160v-160H180v160Zm440 0h160v-160H620v160ZM180-180h160v-160H180v160Zm440 0h160v-160H620v160Z\"/>\n",
              "  </svg>\n",
              "    </button>\n",
              "\n",
              "  <style>\n",
              "    .colab-df-container {\n",
              "      display:flex;\n",
              "      gap: 12px;\n",
              "    }\n",
              "\n",
              "    .colab-df-convert {\n",
              "      background-color: #E8F0FE;\n",
              "      border: none;\n",
              "      border-radius: 50%;\n",
              "      cursor: pointer;\n",
              "      display: none;\n",
              "      fill: #1967D2;\n",
              "      height: 32px;\n",
              "      padding: 0 0 0 0;\n",
              "      width: 32px;\n",
              "    }\n",
              "\n",
              "    .colab-df-convert:hover {\n",
              "      background-color: #E2EBFA;\n",
              "      box-shadow: 0px 1px 2px rgba(60, 64, 67, 0.3), 0px 1px 3px 1px rgba(60, 64, 67, 0.15);\n",
              "      fill: #174EA6;\n",
              "    }\n",
              "\n",
              "    .colab-df-buttons div {\n",
              "      margin-bottom: 4px;\n",
              "    }\n",
              "\n",
              "    [theme=dark] .colab-df-convert {\n",
              "      background-color: #3B4455;\n",
              "      fill: #D2E3FC;\n",
              "    }\n",
              "\n",
              "    [theme=dark] .colab-df-convert:hover {\n",
              "      background-color: #434B5C;\n",
              "      box-shadow: 0px 1px 3px 1px rgba(0, 0, 0, 0.15);\n",
              "      filter: drop-shadow(0px 1px 2px rgba(0, 0, 0, 0.3));\n",
              "      fill: #FFFFFF;\n",
              "    }\n",
              "  </style>\n",
              "\n",
              "    <script>\n",
              "      const buttonEl =\n",
              "        document.querySelector('#df-e40144f7-f9d4-40d6-a617-6f572db59d93 button.colab-df-convert');\n",
              "      buttonEl.style.display =\n",
              "        google.colab.kernel.accessAllowed ? 'block' : 'none';\n",
              "\n",
              "      async function convertToInteractive(key) {\n",
              "        const element = document.querySelector('#df-e40144f7-f9d4-40d6-a617-6f572db59d93');\n",
              "        const dataTable =\n",
              "          await google.colab.kernel.invokeFunction('convertToInteractive',\n",
              "                                                    [key], {});\n",
              "        if (!dataTable) return;\n",
              "\n",
              "        const docLinkHtml = 'Like what you see? Visit the ' +\n",
              "          '<a target=\"_blank\" href=https://colab.research.google.com/notebooks/data_table.ipynb>data table notebook</a>'\n",
              "          + ' to learn more about interactive tables.';\n",
              "        element.innerHTML = '';\n",
              "        dataTable['output_type'] = 'display_data';\n",
              "        await google.colab.output.renderOutput(dataTable, element);\n",
              "        const docLink = document.createElement('div');\n",
              "        docLink.innerHTML = docLinkHtml;\n",
              "        element.appendChild(docLink);\n",
              "      }\n",
              "    </script>\n",
              "  </div>\n",
              "\n",
              "\n",
              "<div id=\"df-77e1dc70-302d-4de1-a96f-8b9c71eee591\">\n",
              "  <button class=\"colab-df-quickchart\" onclick=\"quickchart('df-77e1dc70-302d-4de1-a96f-8b9c71eee591')\"\n",
              "            title=\"Suggest charts.\"\n",
              "            style=\"display:none;\">\n",
              "\n",
              "<svg xmlns=\"http://www.w3.org/2000/svg\" height=\"24px\"viewBox=\"0 0 24 24\"\n",
              "     width=\"24px\">\n",
              "    <g>\n",
              "        <path d=\"M19 3H5c-1.1 0-2 .9-2 2v14c0 1.1.9 2 2 2h14c1.1 0 2-.9 2-2V5c0-1.1-.9-2-2-2zM9 17H7v-7h2v7zm4 0h-2V7h2v10zm4 0h-2v-4h2v4z\"/>\n",
              "    </g>\n",
              "</svg>\n",
              "  </button>\n",
              "\n",
              "<style>\n",
              "  .colab-df-quickchart {\n",
              "      --bg-color: #E8F0FE;\n",
              "      --fill-color: #1967D2;\n",
              "      --hover-bg-color: #E2EBFA;\n",
              "      --hover-fill-color: #174EA6;\n",
              "      --disabled-fill-color: #AAA;\n",
              "      --disabled-bg-color: #DDD;\n",
              "  }\n",
              "\n",
              "  [theme=dark] .colab-df-quickchart {\n",
              "      --bg-color: #3B4455;\n",
              "      --fill-color: #D2E3FC;\n",
              "      --hover-bg-color: #434B5C;\n",
              "      --hover-fill-color: #FFFFFF;\n",
              "      --disabled-bg-color: #3B4455;\n",
              "      --disabled-fill-color: #666;\n",
              "  }\n",
              "\n",
              "  .colab-df-quickchart {\n",
              "    background-color: var(--bg-color);\n",
              "    border: none;\n",
              "    border-radius: 50%;\n",
              "    cursor: pointer;\n",
              "    display: none;\n",
              "    fill: var(--fill-color);\n",
              "    height: 32px;\n",
              "    padding: 0;\n",
              "    width: 32px;\n",
              "  }\n",
              "\n",
              "  .colab-df-quickchart:hover {\n",
              "    background-color: var(--hover-bg-color);\n",
              "    box-shadow: 0 1px 2px rgba(60, 64, 67, 0.3), 0 1px 3px 1px rgba(60, 64, 67, 0.15);\n",
              "    fill: var(--button-hover-fill-color);\n",
              "  }\n",
              "\n",
              "  .colab-df-quickchart-complete:disabled,\n",
              "  .colab-df-quickchart-complete:disabled:hover {\n",
              "    background-color: var(--disabled-bg-color);\n",
              "    fill: var(--disabled-fill-color);\n",
              "    box-shadow: none;\n",
              "  }\n",
              "\n",
              "  .colab-df-spinner {\n",
              "    border: 2px solid var(--fill-color);\n",
              "    border-color: transparent;\n",
              "    border-bottom-color: var(--fill-color);\n",
              "    animation:\n",
              "      spin 1s steps(1) infinite;\n",
              "  }\n",
              "\n",
              "  @keyframes spin {\n",
              "    0% {\n",
              "      border-color: transparent;\n",
              "      border-bottom-color: var(--fill-color);\n",
              "      border-left-color: var(--fill-color);\n",
              "    }\n",
              "    20% {\n",
              "      border-color: transparent;\n",
              "      border-left-color: var(--fill-color);\n",
              "      border-top-color: var(--fill-color);\n",
              "    }\n",
              "    30% {\n",
              "      border-color: transparent;\n",
              "      border-left-color: var(--fill-color);\n",
              "      border-top-color: var(--fill-color);\n",
              "      border-right-color: var(--fill-color);\n",
              "    }\n",
              "    40% {\n",
              "      border-color: transparent;\n",
              "      border-right-color: var(--fill-color);\n",
              "      border-top-color: var(--fill-color);\n",
              "    }\n",
              "    60% {\n",
              "      border-color: transparent;\n",
              "      border-right-color: var(--fill-color);\n",
              "    }\n",
              "    80% {\n",
              "      border-color: transparent;\n",
              "      border-right-color: var(--fill-color);\n",
              "      border-bottom-color: var(--fill-color);\n",
              "    }\n",
              "    90% {\n",
              "      border-color: transparent;\n",
              "      border-bottom-color: var(--fill-color);\n",
              "    }\n",
              "  }\n",
              "</style>\n",
              "\n",
              "  <script>\n",
              "    async function quickchart(key) {\n",
              "      const quickchartButtonEl =\n",
              "        document.querySelector('#' + key + ' button');\n",
              "      quickchartButtonEl.disabled = true;  // To prevent multiple clicks.\n",
              "      quickchartButtonEl.classList.add('colab-df-spinner');\n",
              "      try {\n",
              "        const charts = await google.colab.kernel.invokeFunction(\n",
              "            'suggestCharts', [key], {});\n",
              "      } catch (error) {\n",
              "        console.error('Error during call to suggestCharts:', error);\n",
              "      }\n",
              "      quickchartButtonEl.classList.remove('colab-df-spinner');\n",
              "      quickchartButtonEl.classList.add('colab-df-quickchart-complete');\n",
              "    }\n",
              "    (() => {\n",
              "      let quickchartButtonEl =\n",
              "        document.querySelector('#df-77e1dc70-302d-4de1-a96f-8b9c71eee591 button');\n",
              "      quickchartButtonEl.style.display =\n",
              "        google.colab.kernel.accessAllowed ? 'block' : 'none';\n",
              "    })();\n",
              "  </script>\n",
              "</div>\n",
              "    </div>\n",
              "  </div>\n"
            ]
          },
          "metadata": {},
          "execution_count": 22
        }
      ]
    },
    {
      "cell_type": "code",
      "source": [
        "\n",
        "#This creates mean rating column based on cuisine type\n",
        "ratingByCuisine=df.groupby('cuisine_type').agg({'numericRating':['mean']})\n",
        "\n",
        "#This renames the new columns for easier referencing\n",
        "ratingByCuisine.columns = ['meanRatingByCuisine']\n",
        "\n",
        "#This shows the results\n",
        "ratingByCuisine.sort_values(by=['meanRatingByCuisine'])\n"
      ],
      "metadata": {
        "colab": {
          "base_uri": "https://localhost:8080/",
          "height": 520
        },
        "id": "62sm28Ime9k6",
        "outputId": "aed24e0c-4de0-411a-d607-6baf512c6ebf"
      },
      "execution_count": null,
      "outputs": [
        {
          "output_type": "execute_result",
          "data": {
            "text/plain": [
              "                meanRatingByCuisine\n",
              "cuisine_type                       \n",
              "Vietnamese                 4.000000\n",
              "Korean                     4.111111\n",
              "Mediterranean              4.218750\n",
              "Middle Eastern             4.235294\n",
              "American                   4.298913\n",
              "French                     4.300000\n",
              "Southern                   4.307692\n",
              "Chinese                    4.338346\n",
              "Italian                    4.360465\n",
              "Japanese                   4.373626\n",
              "Mexican                    4.416667\n",
              "Indian                     4.540000\n",
              "Thai                       4.666667\n",
              "Spanish                    4.833333"
            ],
            "text/html": [
              "\n",
              "  <div id=\"df-49bb66d2-2a3a-4db6-b303-af8ee63f428c\" class=\"colab-df-container\">\n",
              "    <div>\n",
              "<style scoped>\n",
              "    .dataframe tbody tr th:only-of-type {\n",
              "        vertical-align: middle;\n",
              "    }\n",
              "\n",
              "    .dataframe tbody tr th {\n",
              "        vertical-align: top;\n",
              "    }\n",
              "\n",
              "    .dataframe thead th {\n",
              "        text-align: right;\n",
              "    }\n",
              "</style>\n",
              "<table border=\"1\" class=\"dataframe\">\n",
              "  <thead>\n",
              "    <tr style=\"text-align: right;\">\n",
              "      <th></th>\n",
              "      <th>meanRatingByCuisine</th>\n",
              "    </tr>\n",
              "    <tr>\n",
              "      <th>cuisine_type</th>\n",
              "      <th></th>\n",
              "    </tr>\n",
              "  </thead>\n",
              "  <tbody>\n",
              "    <tr>\n",
              "      <th>Vietnamese</th>\n",
              "      <td>4.000000</td>\n",
              "    </tr>\n",
              "    <tr>\n",
              "      <th>Korean</th>\n",
              "      <td>4.111111</td>\n",
              "    </tr>\n",
              "    <tr>\n",
              "      <th>Mediterranean</th>\n",
              "      <td>4.218750</td>\n",
              "    </tr>\n",
              "    <tr>\n",
              "      <th>Middle Eastern</th>\n",
              "      <td>4.235294</td>\n",
              "    </tr>\n",
              "    <tr>\n",
              "      <th>American</th>\n",
              "      <td>4.298913</td>\n",
              "    </tr>\n",
              "    <tr>\n",
              "      <th>French</th>\n",
              "      <td>4.300000</td>\n",
              "    </tr>\n",
              "    <tr>\n",
              "      <th>Southern</th>\n",
              "      <td>4.307692</td>\n",
              "    </tr>\n",
              "    <tr>\n",
              "      <th>Chinese</th>\n",
              "      <td>4.338346</td>\n",
              "    </tr>\n",
              "    <tr>\n",
              "      <th>Italian</th>\n",
              "      <td>4.360465</td>\n",
              "    </tr>\n",
              "    <tr>\n",
              "      <th>Japanese</th>\n",
              "      <td>4.373626</td>\n",
              "    </tr>\n",
              "    <tr>\n",
              "      <th>Mexican</th>\n",
              "      <td>4.416667</td>\n",
              "    </tr>\n",
              "    <tr>\n",
              "      <th>Indian</th>\n",
              "      <td>4.540000</td>\n",
              "    </tr>\n",
              "    <tr>\n",
              "      <th>Thai</th>\n",
              "      <td>4.666667</td>\n",
              "    </tr>\n",
              "    <tr>\n",
              "      <th>Spanish</th>\n",
              "      <td>4.833333</td>\n",
              "    </tr>\n",
              "  </tbody>\n",
              "</table>\n",
              "</div>\n",
              "    <div class=\"colab-df-buttons\">\n",
              "\n",
              "  <div class=\"colab-df-container\">\n",
              "    <button class=\"colab-df-convert\" onclick=\"convertToInteractive('df-49bb66d2-2a3a-4db6-b303-af8ee63f428c')\"\n",
              "            title=\"Convert this dataframe to an interactive table.\"\n",
              "            style=\"display:none;\">\n",
              "\n",
              "  <svg xmlns=\"http://www.w3.org/2000/svg\" height=\"24px\" viewBox=\"0 -960 960 960\">\n",
              "    <path d=\"M120-120v-720h720v720H120Zm60-500h600v-160H180v160Zm220 220h160v-160H400v160Zm0 220h160v-160H400v160ZM180-400h160v-160H180v160Zm440 0h160v-160H620v160ZM180-180h160v-160H180v160Zm440 0h160v-160H620v160Z\"/>\n",
              "  </svg>\n",
              "    </button>\n",
              "\n",
              "  <style>\n",
              "    .colab-df-container {\n",
              "      display:flex;\n",
              "      gap: 12px;\n",
              "    }\n",
              "\n",
              "    .colab-df-convert {\n",
              "      background-color: #E8F0FE;\n",
              "      border: none;\n",
              "      border-radius: 50%;\n",
              "      cursor: pointer;\n",
              "      display: none;\n",
              "      fill: #1967D2;\n",
              "      height: 32px;\n",
              "      padding: 0 0 0 0;\n",
              "      width: 32px;\n",
              "    }\n",
              "\n",
              "    .colab-df-convert:hover {\n",
              "      background-color: #E2EBFA;\n",
              "      box-shadow: 0px 1px 2px rgba(60, 64, 67, 0.3), 0px 1px 3px 1px rgba(60, 64, 67, 0.15);\n",
              "      fill: #174EA6;\n",
              "    }\n",
              "\n",
              "    .colab-df-buttons div {\n",
              "      margin-bottom: 4px;\n",
              "    }\n",
              "\n",
              "    [theme=dark] .colab-df-convert {\n",
              "      background-color: #3B4455;\n",
              "      fill: #D2E3FC;\n",
              "    }\n",
              "\n",
              "    [theme=dark] .colab-df-convert:hover {\n",
              "      background-color: #434B5C;\n",
              "      box-shadow: 0px 1px 3px 1px rgba(0, 0, 0, 0.15);\n",
              "      filter: drop-shadow(0px 1px 2px rgba(0, 0, 0, 0.3));\n",
              "      fill: #FFFFFF;\n",
              "    }\n",
              "  </style>\n",
              "\n",
              "    <script>\n",
              "      const buttonEl =\n",
              "        document.querySelector('#df-49bb66d2-2a3a-4db6-b303-af8ee63f428c button.colab-df-convert');\n",
              "      buttonEl.style.display =\n",
              "        google.colab.kernel.accessAllowed ? 'block' : 'none';\n",
              "\n",
              "      async function convertToInteractive(key) {\n",
              "        const element = document.querySelector('#df-49bb66d2-2a3a-4db6-b303-af8ee63f428c');\n",
              "        const dataTable =\n",
              "          await google.colab.kernel.invokeFunction('convertToInteractive',\n",
              "                                                    [key], {});\n",
              "        if (!dataTable) return;\n",
              "\n",
              "        const docLinkHtml = 'Like what you see? Visit the ' +\n",
              "          '<a target=\"_blank\" href=https://colab.research.google.com/notebooks/data_table.ipynb>data table notebook</a>'\n",
              "          + ' to learn more about interactive tables.';\n",
              "        element.innerHTML = '';\n",
              "        dataTable['output_type'] = 'display_data';\n",
              "        await google.colab.output.renderOutput(dataTable, element);\n",
              "        const docLink = document.createElement('div');\n",
              "        docLink.innerHTML = docLinkHtml;\n",
              "        element.appendChild(docLink);\n",
              "      }\n",
              "    </script>\n",
              "  </div>\n",
              "\n",
              "\n",
              "<div id=\"df-8e72b47f-775d-4b6a-b77b-798d314e16d1\">\n",
              "  <button class=\"colab-df-quickchart\" onclick=\"quickchart('df-8e72b47f-775d-4b6a-b77b-798d314e16d1')\"\n",
              "            title=\"Suggest charts.\"\n",
              "            style=\"display:none;\">\n",
              "\n",
              "<svg xmlns=\"http://www.w3.org/2000/svg\" height=\"24px\"viewBox=\"0 0 24 24\"\n",
              "     width=\"24px\">\n",
              "    <g>\n",
              "        <path d=\"M19 3H5c-1.1 0-2 .9-2 2v14c0 1.1.9 2 2 2h14c1.1 0 2-.9 2-2V5c0-1.1-.9-2-2-2zM9 17H7v-7h2v7zm4 0h-2V7h2v10zm4 0h-2v-4h2v4z\"/>\n",
              "    </g>\n",
              "</svg>\n",
              "  </button>\n",
              "\n",
              "<style>\n",
              "  .colab-df-quickchart {\n",
              "      --bg-color: #E8F0FE;\n",
              "      --fill-color: #1967D2;\n",
              "      --hover-bg-color: #E2EBFA;\n",
              "      --hover-fill-color: #174EA6;\n",
              "      --disabled-fill-color: #AAA;\n",
              "      --disabled-bg-color: #DDD;\n",
              "  }\n",
              "\n",
              "  [theme=dark] .colab-df-quickchart {\n",
              "      --bg-color: #3B4455;\n",
              "      --fill-color: #D2E3FC;\n",
              "      --hover-bg-color: #434B5C;\n",
              "      --hover-fill-color: #FFFFFF;\n",
              "      --disabled-bg-color: #3B4455;\n",
              "      --disabled-fill-color: #666;\n",
              "  }\n",
              "\n",
              "  .colab-df-quickchart {\n",
              "    background-color: var(--bg-color);\n",
              "    border: none;\n",
              "    border-radius: 50%;\n",
              "    cursor: pointer;\n",
              "    display: none;\n",
              "    fill: var(--fill-color);\n",
              "    height: 32px;\n",
              "    padding: 0;\n",
              "    width: 32px;\n",
              "  }\n",
              "\n",
              "  .colab-df-quickchart:hover {\n",
              "    background-color: var(--hover-bg-color);\n",
              "    box-shadow: 0 1px 2px rgba(60, 64, 67, 0.3), 0 1px 3px 1px rgba(60, 64, 67, 0.15);\n",
              "    fill: var(--button-hover-fill-color);\n",
              "  }\n",
              "\n",
              "  .colab-df-quickchart-complete:disabled,\n",
              "  .colab-df-quickchart-complete:disabled:hover {\n",
              "    background-color: var(--disabled-bg-color);\n",
              "    fill: var(--disabled-fill-color);\n",
              "    box-shadow: none;\n",
              "  }\n",
              "\n",
              "  .colab-df-spinner {\n",
              "    border: 2px solid var(--fill-color);\n",
              "    border-color: transparent;\n",
              "    border-bottom-color: var(--fill-color);\n",
              "    animation:\n",
              "      spin 1s steps(1) infinite;\n",
              "  }\n",
              "\n",
              "  @keyframes spin {\n",
              "    0% {\n",
              "      border-color: transparent;\n",
              "      border-bottom-color: var(--fill-color);\n",
              "      border-left-color: var(--fill-color);\n",
              "    }\n",
              "    20% {\n",
              "      border-color: transparent;\n",
              "      border-left-color: var(--fill-color);\n",
              "      border-top-color: var(--fill-color);\n",
              "    }\n",
              "    30% {\n",
              "      border-color: transparent;\n",
              "      border-left-color: var(--fill-color);\n",
              "      border-top-color: var(--fill-color);\n",
              "      border-right-color: var(--fill-color);\n",
              "    }\n",
              "    40% {\n",
              "      border-color: transparent;\n",
              "      border-right-color: var(--fill-color);\n",
              "      border-top-color: var(--fill-color);\n",
              "    }\n",
              "    60% {\n",
              "      border-color: transparent;\n",
              "      border-right-color: var(--fill-color);\n",
              "    }\n",
              "    80% {\n",
              "      border-color: transparent;\n",
              "      border-right-color: var(--fill-color);\n",
              "      border-bottom-color: var(--fill-color);\n",
              "    }\n",
              "    90% {\n",
              "      border-color: transparent;\n",
              "      border-bottom-color: var(--fill-color);\n",
              "    }\n",
              "  }\n",
              "</style>\n",
              "\n",
              "  <script>\n",
              "    async function quickchart(key) {\n",
              "      const quickchartButtonEl =\n",
              "        document.querySelector('#' + key + ' button');\n",
              "      quickchartButtonEl.disabled = true;  // To prevent multiple clicks.\n",
              "      quickchartButtonEl.classList.add('colab-df-spinner');\n",
              "      try {\n",
              "        const charts = await google.colab.kernel.invokeFunction(\n",
              "            'suggestCharts', [key], {});\n",
              "      } catch (error) {\n",
              "        console.error('Error during call to suggestCharts:', error);\n",
              "      }\n",
              "      quickchartButtonEl.classList.remove('colab-df-spinner');\n",
              "      quickchartButtonEl.classList.add('colab-df-quickchart-complete');\n",
              "    }\n",
              "    (() => {\n",
              "      let quickchartButtonEl =\n",
              "        document.querySelector('#df-8e72b47f-775d-4b6a-b77b-798d314e16d1 button');\n",
              "      quickchartButtonEl.style.display =\n",
              "        google.colab.kernel.accessAllowed ? 'block' : 'none';\n",
              "    })();\n",
              "  </script>\n",
              "</div>\n",
              "    </div>\n",
              "  </div>\n"
            ]
          },
          "metadata": {},
          "execution_count": 23
        }
      ]
    },
    {
      "cell_type": "code",
      "source": [],
      "metadata": {
        "id": "_Pr7LEIWfJFt"
      },
      "execution_count": null,
      "outputs": []
    },
    {
      "cell_type": "markdown",
      "metadata": {
        "id": "pRlVW-oeJY_W"
      },
      "source": [
        "### **Question 15:** The company wants to analyze the total time required to deliver the food. What percentage of orders take more than 60 minutes to get delivered from the time the order is placed? (The food has to be prepared and then delivered.) [2 marks]"
      ]
    },
    {
      "cell_type": "code",
      "execution_count": null,
      "metadata": {
        "id": "zxoTrxfLJY_W",
        "colab": {
          "base_uri": "https://localhost:8080/"
        },
        "outputId": "45ee57d1-04a4-4a3d-e345-e5d28bfcfc38"
      },
      "outputs": [
        {
          "output_type": "stream",
          "name": "stdout",
          "text": [
            "10.54% of orders take more than 60 minutes from the time the order is placed to delivery.\n"
          ]
        }
      ],
      "source": [
        "# For easy reference columns and their data types are below:\n",
        "# 0   order_id               1898 non-null   int64\n",
        "# 1   customer_id            1898 non-null   int64\n",
        "# 2   restaurant_name        1898 non-null   object\n",
        "# 3   cuisine_type           1898 non-null   object\n",
        "# 4   cost_of_the_order      1898 non-null   float64\n",
        "# 5   day_of_the_week        1898 non-null   object\n",
        "# 6   rating                 1898 non-null   object\n",
        "# 7   food_preparation_time  1898 non-null   int64\n",
        "# 8   delivery_time          1898 non-null   int64\n",
        "\n",
        "#This calculates the total time for each order to be prepared and delivered\n",
        "df['total_time'] = df['food_preparation_time'] + df['delivery_time']\n",
        "\n",
        "#This filters the orders that took more than 60 minutes to prepare + deliver\n",
        "orders_over_60_minutes = df[df['total_time'] > 60].shape[0]\n",
        "\n",
        "#This calculates the pct of orders that took 60 minutes or more to prep and deliver\n",
        "percentage = (orders_over_60_minutes / df.shape[0]) * 100\n",
        "\n",
        "#This prints the results\n",
        "print(f\"{percentage:.2f}% of orders take more than 60 minutes from the time the order is placed to delivery.\")\n"
      ]
    },
    {
      "cell_type": "markdown",
      "metadata": {
        "id": "iqzBXn2yJY_W"
      },
      "source": [
        "#### Observations:\n",
        "10.54% of orders take more than 60 minutes from the time the order is prepared to delivery.\n"
      ]
    },
    {
      "cell_type": "markdown",
      "metadata": {
        "id": "bUd6cYpPJY_W"
      },
      "source": [
        "### **Question 16:** The company wants to analyze the delivery time of the orders on weekdays and weekends. How does the mean delivery time vary during weekdays and weekends? [2 marks]"
      ]
    },
    {
      "cell_type": "code",
      "execution_count": null,
      "metadata": {
        "id": "pIU5xZZ6JY_W",
        "colab": {
          "base_uri": "https://localhost:8080/"
        },
        "outputId": "3a6fd704-404a-4982-ba33-9ddddd268156"
      },
      "outputs": [
        {
          "output_type": "stream",
          "name": "stdout",
          "text": [
            "day_of_the_week\n",
            "Weekday    28.340037\n",
            "Weekend    22.470022\n",
            "Name: delivery_time, dtype: float64\n"
          ]
        }
      ],
      "source": [
        "# For easy reference columns and their data types are below:\n",
        "# 0   order_id               1898 non-null   int64\n",
        "# 1   customer_id            1898 non-null   int64\n",
        "# 2   restaurant_name        1898 non-null   object\n",
        "# 3   cuisine_type           1898 non-null   object\n",
        "# 4   cost_of_the_order      1898 non-null   float64\n",
        "# 5   day_of_the_week        1898 non-null   object\n",
        "# 6   rating                 1898 non-null   object\n",
        "# 7   food_preparation_time  1898 non-null   int64\n",
        "# 8   delivery_time          1898 non-null   int64\n",
        "\n",
        "#This calculates the men delivery time based on order days (weekend or week days)\n",
        "mean_delivery_times = df.groupby('day_of_the_week')['delivery_time'].mean()\n",
        "\n",
        "#This prints the results\n",
        "print(mean_delivery_times)\n",
        "\n"
      ]
    },
    {
      "cell_type": "markdown",
      "metadata": {
        "id": "8H-ODxbVJY_W"
      },
      "source": [
        "#### Observations:\n",
        "Weekend delivery times are about 6 minutes faster than Weekday delivery times excluding food_preparation_time.\n",
        "\n",
        "1. Weekday    28.340037 minutes\n",
        "2. Weekend    22.470022 minutes"
      ]
    },
    {
      "cell_type": "code",
      "source": [
        "#This creates a new dataframe to merge/concat ratingByCuisine and RevenueByCuisine\n",
        "cuisineTypeRatingRevenue = [ratingByCuisine, revenueByCuisine]\n",
        "cuisineTypeRatingRevenue = pd.concat(cuisineTypeRatingRevenue, axis=1)\n",
        "cuisineTypeRatingRevenue.sort_values(by='meanRevenueByCuisine')"
      ],
      "metadata": {
        "colab": {
          "base_uri": "https://localhost:8080/",
          "height": 557
        },
        "id": "oX8i3-0UgL7_",
        "outputId": "39f8284d-f03d-4d01-ac7e-cae78dbadeeb"
      },
      "execution_count": null,
      "outputs": [
        {
          "output_type": "execute_result",
          "data": {
            "text/plain": [
              "                meanRatingByCuisine  meanRevenueByCuisine  sumRevenueByCuisine\n",
              "cuisine_type                                                                  \n",
              "Vietnamese                 4.000000              2.250429              15.7530\n",
              "Korean                     4.111111              2.561769              33.3030\n",
              "Mediterranean              4.218750              2.963652             136.3280\n",
              "Japanese                   4.373626              3.145201            1478.2445\n",
              "Chinese                    4.338346              3.209491             690.0405\n",
              "American                   4.298913              3.216223            1878.2740\n",
              "Italian                    4.360465              3.244579             966.8845\n",
              "Mexican                    4.416667              3.333675             256.6930\n",
              "Indian                     4.540000              3.383479             246.9940\n",
              "Spanish                    4.833333              3.936375              47.2365\n",
              "Middle Eastern             4.235294              3.950071             193.5535\n",
              "Southern                   4.307692              4.044324              68.7535\n",
              "Thai                       4.666667              4.108026              78.0525\n",
              "French                     4.300000              4.232917              76.1925"
            ],
            "text/html": [
              "\n",
              "  <div id=\"df-6ce52c13-8401-4acb-a3ff-08e7cbbd428d\" class=\"colab-df-container\">\n",
              "    <div>\n",
              "<style scoped>\n",
              "    .dataframe tbody tr th:only-of-type {\n",
              "        vertical-align: middle;\n",
              "    }\n",
              "\n",
              "    .dataframe tbody tr th {\n",
              "        vertical-align: top;\n",
              "    }\n",
              "\n",
              "    .dataframe thead th {\n",
              "        text-align: right;\n",
              "    }\n",
              "</style>\n",
              "<table border=\"1\" class=\"dataframe\">\n",
              "  <thead>\n",
              "    <tr style=\"text-align: right;\">\n",
              "      <th></th>\n",
              "      <th>meanRatingByCuisine</th>\n",
              "      <th>meanRevenueByCuisine</th>\n",
              "      <th>sumRevenueByCuisine</th>\n",
              "    </tr>\n",
              "    <tr>\n",
              "      <th>cuisine_type</th>\n",
              "      <th></th>\n",
              "      <th></th>\n",
              "      <th></th>\n",
              "    </tr>\n",
              "  </thead>\n",
              "  <tbody>\n",
              "    <tr>\n",
              "      <th>Vietnamese</th>\n",
              "      <td>4.000000</td>\n",
              "      <td>2.250429</td>\n",
              "      <td>15.7530</td>\n",
              "    </tr>\n",
              "    <tr>\n",
              "      <th>Korean</th>\n",
              "      <td>4.111111</td>\n",
              "      <td>2.561769</td>\n",
              "      <td>33.3030</td>\n",
              "    </tr>\n",
              "    <tr>\n",
              "      <th>Mediterranean</th>\n",
              "      <td>4.218750</td>\n",
              "      <td>2.963652</td>\n",
              "      <td>136.3280</td>\n",
              "    </tr>\n",
              "    <tr>\n",
              "      <th>Japanese</th>\n",
              "      <td>4.373626</td>\n",
              "      <td>3.145201</td>\n",
              "      <td>1478.2445</td>\n",
              "    </tr>\n",
              "    <tr>\n",
              "      <th>Chinese</th>\n",
              "      <td>4.338346</td>\n",
              "      <td>3.209491</td>\n",
              "      <td>690.0405</td>\n",
              "    </tr>\n",
              "    <tr>\n",
              "      <th>American</th>\n",
              "      <td>4.298913</td>\n",
              "      <td>3.216223</td>\n",
              "      <td>1878.2740</td>\n",
              "    </tr>\n",
              "    <tr>\n",
              "      <th>Italian</th>\n",
              "      <td>4.360465</td>\n",
              "      <td>3.244579</td>\n",
              "      <td>966.8845</td>\n",
              "    </tr>\n",
              "    <tr>\n",
              "      <th>Mexican</th>\n",
              "      <td>4.416667</td>\n",
              "      <td>3.333675</td>\n",
              "      <td>256.6930</td>\n",
              "    </tr>\n",
              "    <tr>\n",
              "      <th>Indian</th>\n",
              "      <td>4.540000</td>\n",
              "      <td>3.383479</td>\n",
              "      <td>246.9940</td>\n",
              "    </tr>\n",
              "    <tr>\n",
              "      <th>Spanish</th>\n",
              "      <td>4.833333</td>\n",
              "      <td>3.936375</td>\n",
              "      <td>47.2365</td>\n",
              "    </tr>\n",
              "    <tr>\n",
              "      <th>Middle Eastern</th>\n",
              "      <td>4.235294</td>\n",
              "      <td>3.950071</td>\n",
              "      <td>193.5535</td>\n",
              "    </tr>\n",
              "    <tr>\n",
              "      <th>Southern</th>\n",
              "      <td>4.307692</td>\n",
              "      <td>4.044324</td>\n",
              "      <td>68.7535</td>\n",
              "    </tr>\n",
              "    <tr>\n",
              "      <th>Thai</th>\n",
              "      <td>4.666667</td>\n",
              "      <td>4.108026</td>\n",
              "      <td>78.0525</td>\n",
              "    </tr>\n",
              "    <tr>\n",
              "      <th>French</th>\n",
              "      <td>4.300000</td>\n",
              "      <td>4.232917</td>\n",
              "      <td>76.1925</td>\n",
              "    </tr>\n",
              "  </tbody>\n",
              "</table>\n",
              "</div>\n",
              "    <div class=\"colab-df-buttons\">\n",
              "\n",
              "  <div class=\"colab-df-container\">\n",
              "    <button class=\"colab-df-convert\" onclick=\"convertToInteractive('df-6ce52c13-8401-4acb-a3ff-08e7cbbd428d')\"\n",
              "            title=\"Convert this dataframe to an interactive table.\"\n",
              "            style=\"display:none;\">\n",
              "\n",
              "  <svg xmlns=\"http://www.w3.org/2000/svg\" height=\"24px\" viewBox=\"0 -960 960 960\">\n",
              "    <path d=\"M120-120v-720h720v720H120Zm60-500h600v-160H180v160Zm220 220h160v-160H400v160Zm0 220h160v-160H400v160ZM180-400h160v-160H180v160Zm440 0h160v-160H620v160ZM180-180h160v-160H180v160Zm440 0h160v-160H620v160Z\"/>\n",
              "  </svg>\n",
              "    </button>\n",
              "\n",
              "  <style>\n",
              "    .colab-df-container {\n",
              "      display:flex;\n",
              "      gap: 12px;\n",
              "    }\n",
              "\n",
              "    .colab-df-convert {\n",
              "      background-color: #E8F0FE;\n",
              "      border: none;\n",
              "      border-radius: 50%;\n",
              "      cursor: pointer;\n",
              "      display: none;\n",
              "      fill: #1967D2;\n",
              "      height: 32px;\n",
              "      padding: 0 0 0 0;\n",
              "      width: 32px;\n",
              "    }\n",
              "\n",
              "    .colab-df-convert:hover {\n",
              "      background-color: #E2EBFA;\n",
              "      box-shadow: 0px 1px 2px rgba(60, 64, 67, 0.3), 0px 1px 3px 1px rgba(60, 64, 67, 0.15);\n",
              "      fill: #174EA6;\n",
              "    }\n",
              "\n",
              "    .colab-df-buttons div {\n",
              "      margin-bottom: 4px;\n",
              "    }\n",
              "\n",
              "    [theme=dark] .colab-df-convert {\n",
              "      background-color: #3B4455;\n",
              "      fill: #D2E3FC;\n",
              "    }\n",
              "\n",
              "    [theme=dark] .colab-df-convert:hover {\n",
              "      background-color: #434B5C;\n",
              "      box-shadow: 0px 1px 3px 1px rgba(0, 0, 0, 0.15);\n",
              "      filter: drop-shadow(0px 1px 2px rgba(0, 0, 0, 0.3));\n",
              "      fill: #FFFFFF;\n",
              "    }\n",
              "  </style>\n",
              "\n",
              "    <script>\n",
              "      const buttonEl =\n",
              "        document.querySelector('#df-6ce52c13-8401-4acb-a3ff-08e7cbbd428d button.colab-df-convert');\n",
              "      buttonEl.style.display =\n",
              "        google.colab.kernel.accessAllowed ? 'block' : 'none';\n",
              "\n",
              "      async function convertToInteractive(key) {\n",
              "        const element = document.querySelector('#df-6ce52c13-8401-4acb-a3ff-08e7cbbd428d');\n",
              "        const dataTable =\n",
              "          await google.colab.kernel.invokeFunction('convertToInteractive',\n",
              "                                                    [key], {});\n",
              "        if (!dataTable) return;\n",
              "\n",
              "        const docLinkHtml = 'Like what you see? Visit the ' +\n",
              "          '<a target=\"_blank\" href=https://colab.research.google.com/notebooks/data_table.ipynb>data table notebook</a>'\n",
              "          + ' to learn more about interactive tables.';\n",
              "        element.innerHTML = '';\n",
              "        dataTable['output_type'] = 'display_data';\n",
              "        await google.colab.output.renderOutput(dataTable, element);\n",
              "        const docLink = document.createElement('div');\n",
              "        docLink.innerHTML = docLinkHtml;\n",
              "        element.appendChild(docLink);\n",
              "      }\n",
              "    </script>\n",
              "  </div>\n",
              "\n",
              "\n",
              "<div id=\"df-1541a4ca-7b37-4321-acb0-2d49af230a0d\">\n",
              "  <button class=\"colab-df-quickchart\" onclick=\"quickchart('df-1541a4ca-7b37-4321-acb0-2d49af230a0d')\"\n",
              "            title=\"Suggest charts.\"\n",
              "            style=\"display:none;\">\n",
              "\n",
              "<svg xmlns=\"http://www.w3.org/2000/svg\" height=\"24px\"viewBox=\"0 0 24 24\"\n",
              "     width=\"24px\">\n",
              "    <g>\n",
              "        <path d=\"M19 3H5c-1.1 0-2 .9-2 2v14c0 1.1.9 2 2 2h14c1.1 0 2-.9 2-2V5c0-1.1-.9-2-2-2zM9 17H7v-7h2v7zm4 0h-2V7h2v10zm4 0h-2v-4h2v4z\"/>\n",
              "    </g>\n",
              "</svg>\n",
              "  </button>\n",
              "\n",
              "<style>\n",
              "  .colab-df-quickchart {\n",
              "      --bg-color: #E8F0FE;\n",
              "      --fill-color: #1967D2;\n",
              "      --hover-bg-color: #E2EBFA;\n",
              "      --hover-fill-color: #174EA6;\n",
              "      --disabled-fill-color: #AAA;\n",
              "      --disabled-bg-color: #DDD;\n",
              "  }\n",
              "\n",
              "  [theme=dark] .colab-df-quickchart {\n",
              "      --bg-color: #3B4455;\n",
              "      --fill-color: #D2E3FC;\n",
              "      --hover-bg-color: #434B5C;\n",
              "      --hover-fill-color: #FFFFFF;\n",
              "      --disabled-bg-color: #3B4455;\n",
              "      --disabled-fill-color: #666;\n",
              "  }\n",
              "\n",
              "  .colab-df-quickchart {\n",
              "    background-color: var(--bg-color);\n",
              "    border: none;\n",
              "    border-radius: 50%;\n",
              "    cursor: pointer;\n",
              "    display: none;\n",
              "    fill: var(--fill-color);\n",
              "    height: 32px;\n",
              "    padding: 0;\n",
              "    width: 32px;\n",
              "  }\n",
              "\n",
              "  .colab-df-quickchart:hover {\n",
              "    background-color: var(--hover-bg-color);\n",
              "    box-shadow: 0 1px 2px rgba(60, 64, 67, 0.3), 0 1px 3px 1px rgba(60, 64, 67, 0.15);\n",
              "    fill: var(--button-hover-fill-color);\n",
              "  }\n",
              "\n",
              "  .colab-df-quickchart-complete:disabled,\n",
              "  .colab-df-quickchart-complete:disabled:hover {\n",
              "    background-color: var(--disabled-bg-color);\n",
              "    fill: var(--disabled-fill-color);\n",
              "    box-shadow: none;\n",
              "  }\n",
              "\n",
              "  .colab-df-spinner {\n",
              "    border: 2px solid var(--fill-color);\n",
              "    border-color: transparent;\n",
              "    border-bottom-color: var(--fill-color);\n",
              "    animation:\n",
              "      spin 1s steps(1) infinite;\n",
              "  }\n",
              "\n",
              "  @keyframes spin {\n",
              "    0% {\n",
              "      border-color: transparent;\n",
              "      border-bottom-color: var(--fill-color);\n",
              "      border-left-color: var(--fill-color);\n",
              "    }\n",
              "    20% {\n",
              "      border-color: transparent;\n",
              "      border-left-color: var(--fill-color);\n",
              "      border-top-color: var(--fill-color);\n",
              "    }\n",
              "    30% {\n",
              "      border-color: transparent;\n",
              "      border-left-color: var(--fill-color);\n",
              "      border-top-color: var(--fill-color);\n",
              "      border-right-color: var(--fill-color);\n",
              "    }\n",
              "    40% {\n",
              "      border-color: transparent;\n",
              "      border-right-color: var(--fill-color);\n",
              "      border-top-color: var(--fill-color);\n",
              "    }\n",
              "    60% {\n",
              "      border-color: transparent;\n",
              "      border-right-color: var(--fill-color);\n",
              "    }\n",
              "    80% {\n",
              "      border-color: transparent;\n",
              "      border-right-color: var(--fill-color);\n",
              "      border-bottom-color: var(--fill-color);\n",
              "    }\n",
              "    90% {\n",
              "      border-color: transparent;\n",
              "      border-bottom-color: var(--fill-color);\n",
              "    }\n",
              "  }\n",
              "</style>\n",
              "\n",
              "  <script>\n",
              "    async function quickchart(key) {\n",
              "      const quickchartButtonEl =\n",
              "        document.querySelector('#' + key + ' button');\n",
              "      quickchartButtonEl.disabled = true;  // To prevent multiple clicks.\n",
              "      quickchartButtonEl.classList.add('colab-df-spinner');\n",
              "      try {\n",
              "        const charts = await google.colab.kernel.invokeFunction(\n",
              "            'suggestCharts', [key], {});\n",
              "      } catch (error) {\n",
              "        console.error('Error during call to suggestCharts:', error);\n",
              "      }\n",
              "      quickchartButtonEl.classList.remove('colab-df-spinner');\n",
              "      quickchartButtonEl.classList.add('colab-df-quickchart-complete');\n",
              "    }\n",
              "    (() => {\n",
              "      let quickchartButtonEl =\n",
              "        document.querySelector('#df-1541a4ca-7b37-4321-acb0-2d49af230a0d button');\n",
              "      quickchartButtonEl.style.display =\n",
              "        google.colab.kernel.accessAllowed ? 'block' : 'none';\n",
              "    })();\n",
              "  </script>\n",
              "</div>\n",
              "    </div>\n",
              "  </div>\n"
            ]
          },
          "metadata": {},
          "execution_count": 26
        }
      ]
    },
    {
      "cell_type": "markdown",
      "metadata": {
        "id": "17roJywaJY_W"
      },
      "source": [
        "### Conclusion and Recommendations"
      ]
    },
    {
      "cell_type": "markdown",
      "metadata": {
        "id": "ZdX2Wz4FJY_W"
      },
      "source": [
        "### **Question 17:** What are your conclusions from the analysis? What recommendations would you like to share to help improve the business? (You can use cuisine type and feedback ratings to drive your business recommendations.) [6 marks]"
      ]
    },
    {
      "cell_type": "markdown",
      "metadata": {
        "id": "VTugVsL4Ddz-"
      },
      "source": [
        "### Conclusions:\n",
        "*  Spanish and Thai cuisines have relatively good ratings and high average revenue. However, they represent a very small amount of total revenue.\n",
        "\n",
        "*  Vietnamese cuisine has the lowest mean rating and the lowest mean revenue as well as lowest total revenue."
      ]
    },
    {
      "cell_type": "markdown",
      "metadata": {
        "id": "PWnsI0i_guWJ"
      },
      "source": [
        "### Recommendations:\n",
        "\n",
        "*  Implementing a new promotion for Spanish and Thai cuisine would help us improve our total revenue while keeping the customers happy. However, there needs to be A/B testing to see if the ratings of these cuisines are relatively higher due to lack of orders thus higher quality.\n",
        "*  Restaurants that serve Vietnamese cuisine should be further investigated to figure out whether we need to sign up alternative Vietnamese restaurants and/or consider promoting other cuisines to customers searching Vietnamese cuisine."
      ]
    },
    {
      "cell_type": "markdown",
      "metadata": {
        "id": "tSoucKKbg9Hc"
      },
      "source": [
        "---"
      ]
    },
    {
      "cell_type": "code",
      "source": [],
      "metadata": {
        "id": "wKQOOOjhk3pP"
      },
      "execution_count": null,
      "outputs": []
    }
  ],
  "metadata": {
    "colab": {
      "provenance": [],
      "include_colab_link": true
    },
    "hide_input": false,
    "kernelspec": {
      "display_name": "Python 3 (ipykernel)",
      "language": "python",
      "name": "python3"
    },
    "language_info": {
      "codemirror_mode": {
        "name": "ipython",
        "version": 3
      },
      "file_extension": ".py",
      "mimetype": "text/x-python",
      "name": "python",
      "nbconvert_exporter": "python",
      "pygments_lexer": "ipython3",
      "version": "3.9.7"
    },
    "toc": {
      "base_numbering": 1,
      "nav_menu": {},
      "number_sections": true,
      "sideBar": true,
      "skip_h1_title": false,
      "title_cell": "Table of Contents",
      "title_sidebar": "Contents",
      "toc_cell": false,
      "toc_position": {},
      "toc_section_display": true,
      "toc_window_display": false
    },
    "varInspector": {
      "cols": {
        "lenName": 16,
        "lenType": 16,
        "lenVar": 40
      },
      "kernels_config": {
        "python": {
          "delete_cmd_postfix": "",
          "delete_cmd_prefix": "del ",
          "library": "var_list.py",
          "varRefreshCmd": "print(var_dic_list())"
        },
        "r": {
          "delete_cmd_postfix": ") ",
          "delete_cmd_prefix": "rm(",
          "library": "var_list.r",
          "varRefreshCmd": "cat(var_dic_list()) "
        }
      },
      "types_to_exclude": [
        "module",
        "function",
        "builtin_function_or_method",
        "instance",
        "_Feature"
      ],
      "window_display": false
    }
  },
  "nbformat": 4,
  "nbformat_minor": 0
}